{
  "nbformat": 4,
  "nbformat_minor": 0,
  "metadata": {
    "kernelspec": {
      "display_name": "conda_tensorflow_p36",
      "language": "python",
      "name": "conda_tensorflow_p36"
    },
    "language_info": {
      "codemirror_mode": {
        "name": "ipython",
        "version": 3
      },
      "file_extension": ".py",
      "mimetype": "text/x-python",
      "name": "python",
      "nbconvert_exporter": "python",
      "pygments_lexer": "ipython3",
      "version": "3.6.10"
    },
    "colab": {
      "provenance": [],
      "include_colab_link": true
    },
    "accelerator": "GPU",
    "gpuClass": "standard"
  },
  "cells": [
    {
      "cell_type": "markdown",
      "metadata": {
        "id": "view-in-github",
        "colab_type": "text"
      },
      "source": [
        "<a href=\"https://colab.research.google.com/github/veiro/Extentend_Data_imputation_with_CTGAN/blob/main/GANS_tarea_V2.ipynb\" target=\"_parent\"><img src=\"https://colab.research.google.com/assets/colab-badge.svg\" alt=\"Open In Colab\"/></a>"
      ]
    },
    {
      "cell_type": "markdown",
      "metadata": {
        "id": "cI1a0DMgzsi9"
      },
      "source": [
        "## Basado en:\n",
        "\n",
        "Grace Deng, Cuize Han, David S. Matteson. Extended Missing Data Imputation via GANs for Ranking Applications\n",
        "\n",
        "\n",
        "@article{deng2020extended, title={Extended Missing Data Imputation via GANs for Ranking Applications}, author={Deng, Grace and Han, Cuize and Matteson, David S}, journal={arXiv preprint arXiv:2011.02089}, year={2020} }\n",
        "\n",
        "Original GAIN code can be found here: https://github.com/jsyoon0823/GAIN\n",
        "\n",
        "\n",
        "## Agregando la normalizacion y sampleo de CTGAN: \n",
        "\n",
        "Lei Xu, Maria Skoularidou, Alfredo Cuesta-Infante, Kalyan Veeramachaneni. Modeling Tabular data using Conditional GAN. NeurIPS, 2019.\n",
        "\n",
        "@inproceedings{ctgan,\n",
        "  title={Modeling Tabular data using Conditional GAN},\n",
        "  author={Xu, Lei and Skoularidou, Maria and Cuesta-Infante, Alfredo and Veeramachaneni, Kalyan},\n",
        "  booktitle={Advances in Neural Information Processing Systems},\n",
        "  year={2019}\n",
        "}\n",
        "\n",
        "Original CTGAN code can be found here: https://github.com/sdv-dev/CTGAN \n",
        "\n"
      ]
    },
    {
      "cell_type": "markdown",
      "metadata": {
        "id": "h_VYRYhcXX0o"
      },
      "source": [
        "### Reading Data"
      ]
    },
    {
      "cell_type": "code",
      "source": [
        "!pip install sdv\n",
        "# la primera vez da error, reiniciar ambiente y ejecutar todo de nuevo"
      ],
      "metadata": {
        "colab": {
          "base_uri": "https://localhost:8080/"
        },
        "id": "Za1DvB53JN6P",
        "outputId": "887cc8e6-fb01-42ea-dae6-bfa891fa4293"
      },
      "execution_count": 1,
      "outputs": [
        {
          "output_type": "stream",
          "name": "stdout",
          "text": [
            "Looking in indexes: https://pypi.org/simple, https://us-python.pkg.dev/colab-wheels/public/simple/\n",
            "Requirement already satisfied: sdv in /usr/local/lib/python3.8/dist-packages (0.17.2)\n",
            "Requirement already satisfied: copulas<0.8,>=0.7.0 in /usr/local/lib/python3.8/dist-packages (from sdv) (0.7.0)\n",
            "Requirement already satisfied: numpy<2,>=1.20.0 in /usr/local/lib/python3.8/dist-packages (from sdv) (1.21.6)\n",
            "Requirement already satisfied: cloudpickle<3.0,>=2.1.0 in /usr/local/lib/python3.8/dist-packages (from sdv) (2.2.0)\n",
            "Requirement already satisfied: sdmetrics<0.9,>=0.8.0 in /usr/local/lib/python3.8/dist-packages (from sdv) (0.8.1)\n",
            "Requirement already satisfied: rdt<1.3.0,>=1.2.0 in /usr/local/lib/python3.8/dist-packages (from sdv) (1.2.1)\n",
            "Requirement already satisfied: pandas<2,>=1.1.3 in /usr/local/lib/python3.8/dist-packages (from sdv) (1.3.5)\n",
            "Requirement already satisfied: graphviz<1,>=0.13.2 in /usr/local/lib/python3.8/dist-packages (from sdv) (0.20.1)\n",
            "Requirement already satisfied: Faker<15,>=10 in /usr/local/lib/python3.8/dist-packages (from sdv) (14.2.1)\n",
            "Requirement already satisfied: ctgan<0.6,>=0.5.2 in /usr/local/lib/python3.8/dist-packages (from sdv) (0.5.2)\n",
            "Requirement already satisfied: tqdm<5,>=4.15 in /usr/local/lib/python3.8/dist-packages (from sdv) (4.64.1)\n",
            "Requirement already satisfied: deepecho<0.4,>=0.3.0.post1 in /usr/local/lib/python3.8/dist-packages (from sdv) (0.3.0.post1)\n",
            "Requirement already satisfied: matplotlib<4,>=3.4.0 in /usr/local/lib/python3.8/dist-packages (from copulas<0.8,>=0.7.0->sdv) (3.6.2)\n",
            "Requirement already satisfied: scipy<2,>=1.5.4 in /usr/local/lib/python3.8/dist-packages (from copulas<0.8,>=0.7.0->sdv) (1.7.3)\n",
            "Requirement already satisfied: scikit-learn<2,>=0.24 in /usr/local/lib/python3.8/dist-packages (from ctgan<0.6,>=0.5.2->sdv) (1.0.2)\n",
            "Requirement already satisfied: torch<2,>=1.8.0 in /usr/local/lib/python3.8/dist-packages (from ctgan<0.6,>=0.5.2->sdv) (1.13.0+cu116)\n",
            "Requirement already satisfied: packaging<22,>=20 in /usr/local/lib/python3.8/dist-packages (from ctgan<0.6,>=0.5.2->sdv) (21.3)\n",
            "Requirement already satisfied: torchvision<1,>=0.9.0 in /usr/local/lib/python3.8/dist-packages (from ctgan<0.6,>=0.5.2->sdv) (0.14.0+cu116)\n",
            "Requirement already satisfied: python-dateutil>=2.4 in /usr/local/lib/python3.8/dist-packages (from Faker<15,>=10->sdv) (2.8.2)\n",
            "Requirement already satisfied: pyparsing>=2.2.1 in /usr/local/lib/python3.8/dist-packages (from matplotlib<4,>=3.4.0->copulas<0.8,>=0.7.0->sdv) (3.0.9)\n",
            "Requirement already satisfied: contourpy>=1.0.1 in /usr/local/lib/python3.8/dist-packages (from matplotlib<4,>=3.4.0->copulas<0.8,>=0.7.0->sdv) (1.0.6)\n",
            "Requirement already satisfied: kiwisolver>=1.0.1 in /usr/local/lib/python3.8/dist-packages (from matplotlib<4,>=3.4.0->copulas<0.8,>=0.7.0->sdv) (1.4.4)\n",
            "Requirement already satisfied: pillow>=6.2.0 in /usr/local/lib/python3.8/dist-packages (from matplotlib<4,>=3.4.0->copulas<0.8,>=0.7.0->sdv) (7.1.2)\n",
            "Requirement already satisfied: fonttools>=4.22.0 in /usr/local/lib/python3.8/dist-packages (from matplotlib<4,>=3.4.0->copulas<0.8,>=0.7.0->sdv) (4.38.0)\n",
            "Requirement already satisfied: cycler>=0.10 in /usr/local/lib/python3.8/dist-packages (from matplotlib<4,>=3.4.0->copulas<0.8,>=0.7.0->sdv) (0.11.0)\n",
            "Requirement already satisfied: pytz>=2017.3 in /usr/local/lib/python3.8/dist-packages (from pandas<2,>=1.1.3->sdv) (2022.6)\n",
            "Requirement already satisfied: six>=1.5 in /usr/local/lib/python3.8/dist-packages (from python-dateutil>=2.4->Faker<15,>=10->sdv) (1.15.0)\n",
            "Requirement already satisfied: psutil<6,>=5.7 in /usr/local/lib/python3.8/dist-packages (from rdt<1.3.0,>=1.2.0->sdv) (5.9.4)\n",
            "Requirement already satisfied: pyyaml<6,>=5.4.1 in /usr/local/lib/python3.8/dist-packages (from rdt<1.3.0,>=1.2.0->sdv) (5.4.1)\n",
            "Requirement already satisfied: threadpoolctl>=2.0.0 in /usr/local/lib/python3.8/dist-packages (from scikit-learn<2,>=0.24->ctgan<0.6,>=0.5.2->sdv) (3.1.0)\n",
            "Requirement already satisfied: joblib>=0.11 in /usr/local/lib/python3.8/dist-packages (from scikit-learn<2,>=0.24->ctgan<0.6,>=0.5.2->sdv) (1.2.0)\n",
            "Requirement already satisfied: plotly<6,>=5.10.0 in /usr/local/lib/python3.8/dist-packages (from sdmetrics<0.9,>=0.8.0->sdv) (5.11.0)\n",
            "Requirement already satisfied: tenacity>=6.2.0 in /usr/local/lib/python3.8/dist-packages (from plotly<6,>=5.10.0->sdmetrics<0.9,>=0.8.0->sdv) (8.1.0)\n",
            "Requirement already satisfied: typing-extensions in /usr/local/lib/python3.8/dist-packages (from torch<2,>=1.8.0->ctgan<0.6,>=0.5.2->sdv) (4.4.0)\n",
            "Requirement already satisfied: requests in /usr/local/lib/python3.8/dist-packages (from torchvision<1,>=0.9.0->ctgan<0.6,>=0.5.2->sdv) (2.23.0)\n",
            "Requirement already satisfied: urllib3!=1.25.0,!=1.25.1,<1.26,>=1.21.1 in /usr/local/lib/python3.8/dist-packages (from requests->torchvision<1,>=0.9.0->ctgan<0.6,>=0.5.2->sdv) (1.24.3)\n",
            "Requirement already satisfied: idna<3,>=2.5 in /usr/local/lib/python3.8/dist-packages (from requests->torchvision<1,>=0.9.0->ctgan<0.6,>=0.5.2->sdv) (2.10)\n",
            "Requirement already satisfied: certifi>=2017.4.17 in /usr/local/lib/python3.8/dist-packages (from requests->torchvision<1,>=0.9.0->ctgan<0.6,>=0.5.2->sdv) (2022.12.7)\n",
            "Requirement already satisfied: chardet<4,>=3.0.2 in /usr/local/lib/python3.8/dist-packages (from requests->torchvision<1,>=0.9.0->ctgan<0.6,>=0.5.2->sdv) (3.0.4)\n"
          ]
        }
      ]
    },
    {
      "cell_type": "code",
      "source": [
        "from sdv.tabular import CTGAN\n",
        "from ctgan.data_transformer import DataTransformer\n",
        "from ctgan.data_sampler import DataSampler"
      ],
      "metadata": {
        "id": "-x_GkqFmJP9d"
      },
      "execution_count": 2,
      "outputs": []
    },
    {
      "cell_type": "code",
      "metadata": {
        "id": "4s8g1lXYXX0e"
      },
      "source": [
        "import os\n",
        "import sys\n",
        "\n",
        "import tensorflow.compat.v1 as tf\n",
        "import numpy as np\n",
        "import matplotlib.pyplot as plt\n",
        "import matplotlib.gridspec as gridspec\n",
        "from tqdm import tqdm\n",
        "import pandas\n",
        "from sklearn.model_selection import train_test_split\n",
        "import pandas as pd"
      ],
      "execution_count": 3,
      "outputs": []
    },
    {
      "cell_type": "code",
      "source": [
        "%%time\n",
        "data_filepath = 'https://raw.githubusercontent.com/veiro/Extentend_Data_imputation_with_CTGAN/main/datos/synthetic_ranking_data.csv'\n",
        "data_full = pandas.read_csv(data_filepath)\n",
        "\n",
        "print(\"Cantidad de datos reales:\")\n",
        "print(data_full.shape)\n",
        "\n",
        "data =  data_full.sample(n=100000, random_state=1)\n",
        "#data =  data_full[0:100000] #.sample(n=100000, random_state=1)\n",
        "\n",
        "print(\"Cantidad de datos sampleados:\")\n",
        "print(data.shape)"
      ],
      "metadata": {
        "colab": {
          "base_uri": "https://localhost:8080/"
        },
        "id": "Xe-Xcs2qqVR3",
        "outputId": "f02453cd-bc28-49c8-d738-3b619664393a"
      },
      "execution_count": 4,
      "outputs": [
        {
          "output_type": "stream",
          "name": "stdout",
          "text": [
            "Cantidad de datos reales:\n",
            "(640000, 9)\n",
            "Cantidad de datos sampleados:\n",
            "(100000, 9)\n",
            "CPU times: user 842 ms, sys: 193 ms, total: 1.03 s\n",
            "Wall time: 1.08 s\n"
          ]
        }
      ]
    },
    {
      "cell_type": "code",
      "source": [
        "data"
      ],
      "metadata": {
        "colab": {
          "base_uri": "https://localhost:8080/",
          "height": 424
        },
        "id": "na_vbolGFSiM",
        "outputId": "711df1e0-9b5f-4450-d645-22c378367eab"
      },
      "execution_count": 5,
      "outputs": [
        {
          "output_type": "execute_result",
          "data": {
            "text/plain": [
              "           Category              QID  ProductID          QProductID        V5  \\\n",
              "40541         Books         Books634         30         Books634-30  0.575460   \n",
              "314964       Beauty        Beauty922         21        Beauty922-21  2.826844   \n",
              "486237      Clothes      Clothes1598         30      Clothes1598-30  5.150209   \n",
              "620211  Electronics  Electronics1691         52  Electronics1691-52  3.108515   \n",
              "372657       Beauty       Beauty1823         50       Beauty1823-50  3.272858   \n",
              "...             ...              ...        ...                 ...       ...   \n",
              "84135         Books        Books1315         40        Books1315-40 -1.760588   \n",
              "472993      Clothes      Clothes1391         34      Clothes1391-34  2.981975   \n",
              "585718  Electronics  Electronics1152         55  Electronics1152-55  4.086355   \n",
              "490553      Clothes      Clothes1665         58      Clothes1665-58  2.674404   \n",
              "174504    Furniture     Furniture727         41     Furniture727-41  1.624296   \n",
              "\n",
              "               V6        V7  V8         V9  \n",
              "40541    2.181218  0.361658   2   2.017008  \n",
              "314964  10.096474  0.082438   3  19.432840  \n",
              "486237   0.739852  0.028061  14  30.689661  \n",
              "620211   5.493077  0.773000  12  12.173721  \n",
              "372657   1.138467  1.360502   4  11.082728  \n",
              "...           ...       ...  ..        ...  \n",
              "84135    4.236946  4.033930   2   0.654007  \n",
              "472993   1.346800  0.429989   5  31.436584  \n",
              "585718   4.320428  1.167587  13  15.418107  \n",
              "490553   1.387580  1.151788   9   0.226623  \n",
              "174504   2.635301  1.774494   7   8.991447  \n",
              "\n",
              "[100000 rows x 9 columns]"
            ],
            "text/html": [
              "\n",
              "  <div id=\"df-2dc93147-1068-4618-b89b-cae3309cdf47\">\n",
              "    <div class=\"colab-df-container\">\n",
              "      <div>\n",
              "<style scoped>\n",
              "    .dataframe tbody tr th:only-of-type {\n",
              "        vertical-align: middle;\n",
              "    }\n",
              "\n",
              "    .dataframe tbody tr th {\n",
              "        vertical-align: top;\n",
              "    }\n",
              "\n",
              "    .dataframe thead th {\n",
              "        text-align: right;\n",
              "    }\n",
              "</style>\n",
              "<table border=\"1\" class=\"dataframe\">\n",
              "  <thead>\n",
              "    <tr style=\"text-align: right;\">\n",
              "      <th></th>\n",
              "      <th>Category</th>\n",
              "      <th>QID</th>\n",
              "      <th>ProductID</th>\n",
              "      <th>QProductID</th>\n",
              "      <th>V5</th>\n",
              "      <th>V6</th>\n",
              "      <th>V7</th>\n",
              "      <th>V8</th>\n",
              "      <th>V9</th>\n",
              "    </tr>\n",
              "  </thead>\n",
              "  <tbody>\n",
              "    <tr>\n",
              "      <th>40541</th>\n",
              "      <td>Books</td>\n",
              "      <td>Books634</td>\n",
              "      <td>30</td>\n",
              "      <td>Books634-30</td>\n",
              "      <td>0.575460</td>\n",
              "      <td>2.181218</td>\n",
              "      <td>0.361658</td>\n",
              "      <td>2</td>\n",
              "      <td>2.017008</td>\n",
              "    </tr>\n",
              "    <tr>\n",
              "      <th>314964</th>\n",
              "      <td>Beauty</td>\n",
              "      <td>Beauty922</td>\n",
              "      <td>21</td>\n",
              "      <td>Beauty922-21</td>\n",
              "      <td>2.826844</td>\n",
              "      <td>10.096474</td>\n",
              "      <td>0.082438</td>\n",
              "      <td>3</td>\n",
              "      <td>19.432840</td>\n",
              "    </tr>\n",
              "    <tr>\n",
              "      <th>486237</th>\n",
              "      <td>Clothes</td>\n",
              "      <td>Clothes1598</td>\n",
              "      <td>30</td>\n",
              "      <td>Clothes1598-30</td>\n",
              "      <td>5.150209</td>\n",
              "      <td>0.739852</td>\n",
              "      <td>0.028061</td>\n",
              "      <td>14</td>\n",
              "      <td>30.689661</td>\n",
              "    </tr>\n",
              "    <tr>\n",
              "      <th>620211</th>\n",
              "      <td>Electronics</td>\n",
              "      <td>Electronics1691</td>\n",
              "      <td>52</td>\n",
              "      <td>Electronics1691-52</td>\n",
              "      <td>3.108515</td>\n",
              "      <td>5.493077</td>\n",
              "      <td>0.773000</td>\n",
              "      <td>12</td>\n",
              "      <td>12.173721</td>\n",
              "    </tr>\n",
              "    <tr>\n",
              "      <th>372657</th>\n",
              "      <td>Beauty</td>\n",
              "      <td>Beauty1823</td>\n",
              "      <td>50</td>\n",
              "      <td>Beauty1823-50</td>\n",
              "      <td>3.272858</td>\n",
              "      <td>1.138467</td>\n",
              "      <td>1.360502</td>\n",
              "      <td>4</td>\n",
              "      <td>11.082728</td>\n",
              "    </tr>\n",
              "    <tr>\n",
              "      <th>...</th>\n",
              "      <td>...</td>\n",
              "      <td>...</td>\n",
              "      <td>...</td>\n",
              "      <td>...</td>\n",
              "      <td>...</td>\n",
              "      <td>...</td>\n",
              "      <td>...</td>\n",
              "      <td>...</td>\n",
              "      <td>...</td>\n",
              "    </tr>\n",
              "    <tr>\n",
              "      <th>84135</th>\n",
              "      <td>Books</td>\n",
              "      <td>Books1315</td>\n",
              "      <td>40</td>\n",
              "      <td>Books1315-40</td>\n",
              "      <td>-1.760588</td>\n",
              "      <td>4.236946</td>\n",
              "      <td>4.033930</td>\n",
              "      <td>2</td>\n",
              "      <td>0.654007</td>\n",
              "    </tr>\n",
              "    <tr>\n",
              "      <th>472993</th>\n",
              "      <td>Clothes</td>\n",
              "      <td>Clothes1391</td>\n",
              "      <td>34</td>\n",
              "      <td>Clothes1391-34</td>\n",
              "      <td>2.981975</td>\n",
              "      <td>1.346800</td>\n",
              "      <td>0.429989</td>\n",
              "      <td>5</td>\n",
              "      <td>31.436584</td>\n",
              "    </tr>\n",
              "    <tr>\n",
              "      <th>585718</th>\n",
              "      <td>Electronics</td>\n",
              "      <td>Electronics1152</td>\n",
              "      <td>55</td>\n",
              "      <td>Electronics1152-55</td>\n",
              "      <td>4.086355</td>\n",
              "      <td>4.320428</td>\n",
              "      <td>1.167587</td>\n",
              "      <td>13</td>\n",
              "      <td>15.418107</td>\n",
              "    </tr>\n",
              "    <tr>\n",
              "      <th>490553</th>\n",
              "      <td>Clothes</td>\n",
              "      <td>Clothes1665</td>\n",
              "      <td>58</td>\n",
              "      <td>Clothes1665-58</td>\n",
              "      <td>2.674404</td>\n",
              "      <td>1.387580</td>\n",
              "      <td>1.151788</td>\n",
              "      <td>9</td>\n",
              "      <td>0.226623</td>\n",
              "    </tr>\n",
              "    <tr>\n",
              "      <th>174504</th>\n",
              "      <td>Furniture</td>\n",
              "      <td>Furniture727</td>\n",
              "      <td>41</td>\n",
              "      <td>Furniture727-41</td>\n",
              "      <td>1.624296</td>\n",
              "      <td>2.635301</td>\n",
              "      <td>1.774494</td>\n",
              "      <td>7</td>\n",
              "      <td>8.991447</td>\n",
              "    </tr>\n",
              "  </tbody>\n",
              "</table>\n",
              "<p>100000 rows × 9 columns</p>\n",
              "</div>\n",
              "      <button class=\"colab-df-convert\" onclick=\"convertToInteractive('df-2dc93147-1068-4618-b89b-cae3309cdf47')\"\n",
              "              title=\"Convert this dataframe to an interactive table.\"\n",
              "              style=\"display:none;\">\n",
              "        \n",
              "  <svg xmlns=\"http://www.w3.org/2000/svg\" height=\"24px\"viewBox=\"0 0 24 24\"\n",
              "       width=\"24px\">\n",
              "    <path d=\"M0 0h24v24H0V0z\" fill=\"none\"/>\n",
              "    <path d=\"M18.56 5.44l.94 2.06.94-2.06 2.06-.94-2.06-.94-.94-2.06-.94 2.06-2.06.94zm-11 1L8.5 8.5l.94-2.06 2.06-.94-2.06-.94L8.5 2.5l-.94 2.06-2.06.94zm10 10l.94 2.06.94-2.06 2.06-.94-2.06-.94-.94-2.06-.94 2.06-2.06.94z\"/><path d=\"M17.41 7.96l-1.37-1.37c-.4-.4-.92-.59-1.43-.59-.52 0-1.04.2-1.43.59L10.3 9.45l-7.72 7.72c-.78.78-.78 2.05 0 2.83L4 21.41c.39.39.9.59 1.41.59.51 0 1.02-.2 1.41-.59l7.78-7.78 2.81-2.81c.8-.78.8-2.07 0-2.86zM5.41 20L4 18.59l7.72-7.72 1.47 1.35L5.41 20z\"/>\n",
              "  </svg>\n",
              "      </button>\n",
              "      \n",
              "  <style>\n",
              "    .colab-df-container {\n",
              "      display:flex;\n",
              "      flex-wrap:wrap;\n",
              "      gap: 12px;\n",
              "    }\n",
              "\n",
              "    .colab-df-convert {\n",
              "      background-color: #E8F0FE;\n",
              "      border: none;\n",
              "      border-radius: 50%;\n",
              "      cursor: pointer;\n",
              "      display: none;\n",
              "      fill: #1967D2;\n",
              "      height: 32px;\n",
              "      padding: 0 0 0 0;\n",
              "      width: 32px;\n",
              "    }\n",
              "\n",
              "    .colab-df-convert:hover {\n",
              "      background-color: #E2EBFA;\n",
              "      box-shadow: 0px 1px 2px rgba(60, 64, 67, 0.3), 0px 1px 3px 1px rgba(60, 64, 67, 0.15);\n",
              "      fill: #174EA6;\n",
              "    }\n",
              "\n",
              "    [theme=dark] .colab-df-convert {\n",
              "      background-color: #3B4455;\n",
              "      fill: #D2E3FC;\n",
              "    }\n",
              "\n",
              "    [theme=dark] .colab-df-convert:hover {\n",
              "      background-color: #434B5C;\n",
              "      box-shadow: 0px 1px 3px 1px rgba(0, 0, 0, 0.15);\n",
              "      filter: drop-shadow(0px 1px 2px rgba(0, 0, 0, 0.3));\n",
              "      fill: #FFFFFF;\n",
              "    }\n",
              "  </style>\n",
              "\n",
              "      <script>\n",
              "        const buttonEl =\n",
              "          document.querySelector('#df-2dc93147-1068-4618-b89b-cae3309cdf47 button.colab-df-convert');\n",
              "        buttonEl.style.display =\n",
              "          google.colab.kernel.accessAllowed ? 'block' : 'none';\n",
              "\n",
              "        async function convertToInteractive(key) {\n",
              "          const element = document.querySelector('#df-2dc93147-1068-4618-b89b-cae3309cdf47');\n",
              "          const dataTable =\n",
              "            await google.colab.kernel.invokeFunction('convertToInteractive',\n",
              "                                                     [key], {});\n",
              "          if (!dataTable) return;\n",
              "\n",
              "          const docLinkHtml = 'Like what you see? Visit the ' +\n",
              "            '<a target=\"_blank\" href=https://colab.research.google.com/notebooks/data_table.ipynb>data table notebook</a>'\n",
              "            + ' to learn more about interactive tables.';\n",
              "          element.innerHTML = '';\n",
              "          dataTable['output_type'] = 'display_data';\n",
              "          await google.colab.output.renderOutput(dataTable, element);\n",
              "          const docLink = document.createElement('div');\n",
              "          docLink.innerHTML = docLinkHtml;\n",
              "          element.appendChild(docLink);\n",
              "        }\n",
              "      </script>\n",
              "    </div>\n",
              "  </div>\n",
              "  "
            ]
          },
          "metadata": {},
          "execution_count": 5
        }
      ]
    },
    {
      "cell_type": "markdown",
      "metadata": {
        "id": "jFLmBK1-XX0p"
      },
      "source": [
        "### Preparing Data"
      ]
    },
    {
      "cell_type": "code",
      "source": [
        "RANKING_COLS = [\"V5\", \"V6\", \"V7\", \"V8\", \"V9\", \"Category\"]\n",
        "dataToTransform = data.loc[:, RANKING_COLS]"
      ],
      "metadata": {
        "id": "OU_CHHHnHMfz"
      },
      "execution_count": 6,
      "outputs": []
    },
    {
      "cell_type": "code",
      "source": [
        "dataToTransform"
      ],
      "metadata": {
        "colab": {
          "base_uri": "https://localhost:8080/",
          "height": 424
        },
        "id": "Bb0r1XNd5ZY_",
        "outputId": "66ecc719-5145-4062-f3f8-b87cbce963a2"
      },
      "execution_count": 7,
      "outputs": [
        {
          "output_type": "execute_result",
          "data": {
            "text/plain": [
              "              V5         V6        V7  V8         V9     Category\n",
              "40541   0.575460   2.181218  0.361658   2   2.017008        Books\n",
              "314964  2.826844  10.096474  0.082438   3  19.432840       Beauty\n",
              "486237  5.150209   0.739852  0.028061  14  30.689661      Clothes\n",
              "620211  3.108515   5.493077  0.773000  12  12.173721  Electronics\n",
              "372657  3.272858   1.138467  1.360502   4  11.082728       Beauty\n",
              "...          ...        ...       ...  ..        ...          ...\n",
              "84135  -1.760588   4.236946  4.033930   2   0.654007        Books\n",
              "472993  2.981975   1.346800  0.429989   5  31.436584      Clothes\n",
              "585718  4.086355   4.320428  1.167587  13  15.418107  Electronics\n",
              "490553  2.674404   1.387580  1.151788   9   0.226623      Clothes\n",
              "174504  1.624296   2.635301  1.774494   7   8.991447    Furniture\n",
              "\n",
              "[100000 rows x 6 columns]"
            ],
            "text/html": [
              "\n",
              "  <div id=\"df-c3d9f983-567f-481d-893f-31bafc3b155e\">\n",
              "    <div class=\"colab-df-container\">\n",
              "      <div>\n",
              "<style scoped>\n",
              "    .dataframe tbody tr th:only-of-type {\n",
              "        vertical-align: middle;\n",
              "    }\n",
              "\n",
              "    .dataframe tbody tr th {\n",
              "        vertical-align: top;\n",
              "    }\n",
              "\n",
              "    .dataframe thead th {\n",
              "        text-align: right;\n",
              "    }\n",
              "</style>\n",
              "<table border=\"1\" class=\"dataframe\">\n",
              "  <thead>\n",
              "    <tr style=\"text-align: right;\">\n",
              "      <th></th>\n",
              "      <th>V5</th>\n",
              "      <th>V6</th>\n",
              "      <th>V7</th>\n",
              "      <th>V8</th>\n",
              "      <th>V9</th>\n",
              "      <th>Category</th>\n",
              "    </tr>\n",
              "  </thead>\n",
              "  <tbody>\n",
              "    <tr>\n",
              "      <th>40541</th>\n",
              "      <td>0.575460</td>\n",
              "      <td>2.181218</td>\n",
              "      <td>0.361658</td>\n",
              "      <td>2</td>\n",
              "      <td>2.017008</td>\n",
              "      <td>Books</td>\n",
              "    </tr>\n",
              "    <tr>\n",
              "      <th>314964</th>\n",
              "      <td>2.826844</td>\n",
              "      <td>10.096474</td>\n",
              "      <td>0.082438</td>\n",
              "      <td>3</td>\n",
              "      <td>19.432840</td>\n",
              "      <td>Beauty</td>\n",
              "    </tr>\n",
              "    <tr>\n",
              "      <th>486237</th>\n",
              "      <td>5.150209</td>\n",
              "      <td>0.739852</td>\n",
              "      <td>0.028061</td>\n",
              "      <td>14</td>\n",
              "      <td>30.689661</td>\n",
              "      <td>Clothes</td>\n",
              "    </tr>\n",
              "    <tr>\n",
              "      <th>620211</th>\n",
              "      <td>3.108515</td>\n",
              "      <td>5.493077</td>\n",
              "      <td>0.773000</td>\n",
              "      <td>12</td>\n",
              "      <td>12.173721</td>\n",
              "      <td>Electronics</td>\n",
              "    </tr>\n",
              "    <tr>\n",
              "      <th>372657</th>\n",
              "      <td>3.272858</td>\n",
              "      <td>1.138467</td>\n",
              "      <td>1.360502</td>\n",
              "      <td>4</td>\n",
              "      <td>11.082728</td>\n",
              "      <td>Beauty</td>\n",
              "    </tr>\n",
              "    <tr>\n",
              "      <th>...</th>\n",
              "      <td>...</td>\n",
              "      <td>...</td>\n",
              "      <td>...</td>\n",
              "      <td>...</td>\n",
              "      <td>...</td>\n",
              "      <td>...</td>\n",
              "    </tr>\n",
              "    <tr>\n",
              "      <th>84135</th>\n",
              "      <td>-1.760588</td>\n",
              "      <td>4.236946</td>\n",
              "      <td>4.033930</td>\n",
              "      <td>2</td>\n",
              "      <td>0.654007</td>\n",
              "      <td>Books</td>\n",
              "    </tr>\n",
              "    <tr>\n",
              "      <th>472993</th>\n",
              "      <td>2.981975</td>\n",
              "      <td>1.346800</td>\n",
              "      <td>0.429989</td>\n",
              "      <td>5</td>\n",
              "      <td>31.436584</td>\n",
              "      <td>Clothes</td>\n",
              "    </tr>\n",
              "    <tr>\n",
              "      <th>585718</th>\n",
              "      <td>4.086355</td>\n",
              "      <td>4.320428</td>\n",
              "      <td>1.167587</td>\n",
              "      <td>13</td>\n",
              "      <td>15.418107</td>\n",
              "      <td>Electronics</td>\n",
              "    </tr>\n",
              "    <tr>\n",
              "      <th>490553</th>\n",
              "      <td>2.674404</td>\n",
              "      <td>1.387580</td>\n",
              "      <td>1.151788</td>\n",
              "      <td>9</td>\n",
              "      <td>0.226623</td>\n",
              "      <td>Clothes</td>\n",
              "    </tr>\n",
              "    <tr>\n",
              "      <th>174504</th>\n",
              "      <td>1.624296</td>\n",
              "      <td>2.635301</td>\n",
              "      <td>1.774494</td>\n",
              "      <td>7</td>\n",
              "      <td>8.991447</td>\n",
              "      <td>Furniture</td>\n",
              "    </tr>\n",
              "  </tbody>\n",
              "</table>\n",
              "<p>100000 rows × 6 columns</p>\n",
              "</div>\n",
              "      <button class=\"colab-df-convert\" onclick=\"convertToInteractive('df-c3d9f983-567f-481d-893f-31bafc3b155e')\"\n",
              "              title=\"Convert this dataframe to an interactive table.\"\n",
              "              style=\"display:none;\">\n",
              "        \n",
              "  <svg xmlns=\"http://www.w3.org/2000/svg\" height=\"24px\"viewBox=\"0 0 24 24\"\n",
              "       width=\"24px\">\n",
              "    <path d=\"M0 0h24v24H0V0z\" fill=\"none\"/>\n",
              "    <path d=\"M18.56 5.44l.94 2.06.94-2.06 2.06-.94-2.06-.94-.94-2.06-.94 2.06-2.06.94zm-11 1L8.5 8.5l.94-2.06 2.06-.94-2.06-.94L8.5 2.5l-.94 2.06-2.06.94zm10 10l.94 2.06.94-2.06 2.06-.94-2.06-.94-.94-2.06-.94 2.06-2.06.94z\"/><path d=\"M17.41 7.96l-1.37-1.37c-.4-.4-.92-.59-1.43-.59-.52 0-1.04.2-1.43.59L10.3 9.45l-7.72 7.72c-.78.78-.78 2.05 0 2.83L4 21.41c.39.39.9.59 1.41.59.51 0 1.02-.2 1.41-.59l7.78-7.78 2.81-2.81c.8-.78.8-2.07 0-2.86zM5.41 20L4 18.59l7.72-7.72 1.47 1.35L5.41 20z\"/>\n",
              "  </svg>\n",
              "      </button>\n",
              "      \n",
              "  <style>\n",
              "    .colab-df-container {\n",
              "      display:flex;\n",
              "      flex-wrap:wrap;\n",
              "      gap: 12px;\n",
              "    }\n",
              "\n",
              "    .colab-df-convert {\n",
              "      background-color: #E8F0FE;\n",
              "      border: none;\n",
              "      border-radius: 50%;\n",
              "      cursor: pointer;\n",
              "      display: none;\n",
              "      fill: #1967D2;\n",
              "      height: 32px;\n",
              "      padding: 0 0 0 0;\n",
              "      width: 32px;\n",
              "    }\n",
              "\n",
              "    .colab-df-convert:hover {\n",
              "      background-color: #E2EBFA;\n",
              "      box-shadow: 0px 1px 2px rgba(60, 64, 67, 0.3), 0px 1px 3px 1px rgba(60, 64, 67, 0.15);\n",
              "      fill: #174EA6;\n",
              "    }\n",
              "\n",
              "    [theme=dark] .colab-df-convert {\n",
              "      background-color: #3B4455;\n",
              "      fill: #D2E3FC;\n",
              "    }\n",
              "\n",
              "    [theme=dark] .colab-df-convert:hover {\n",
              "      background-color: #434B5C;\n",
              "      box-shadow: 0px 1px 3px 1px rgba(0, 0, 0, 0.15);\n",
              "      filter: drop-shadow(0px 1px 2px rgba(0, 0, 0, 0.3));\n",
              "      fill: #FFFFFF;\n",
              "    }\n",
              "  </style>\n",
              "\n",
              "      <script>\n",
              "        const buttonEl =\n",
              "          document.querySelector('#df-c3d9f983-567f-481d-893f-31bafc3b155e button.colab-df-convert');\n",
              "        buttonEl.style.display =\n",
              "          google.colab.kernel.accessAllowed ? 'block' : 'none';\n",
              "\n",
              "        async function convertToInteractive(key) {\n",
              "          const element = document.querySelector('#df-c3d9f983-567f-481d-893f-31bafc3b155e');\n",
              "          const dataTable =\n",
              "            await google.colab.kernel.invokeFunction('convertToInteractive',\n",
              "                                                     [key], {});\n",
              "          if (!dataTable) return;\n",
              "\n",
              "          const docLinkHtml = 'Like what you see? Visit the ' +\n",
              "            '<a target=\"_blank\" href=https://colab.research.google.com/notebooks/data_table.ipynb>data table notebook</a>'\n",
              "            + ' to learn more about interactive tables.';\n",
              "          element.innerHTML = '';\n",
              "          dataTable['output_type'] = 'display_data';\n",
              "          await google.colab.output.renderOutput(dataTable, element);\n",
              "          const docLink = document.createElement('div');\n",
              "          docLink.innerHTML = docLinkHtml;\n",
              "          element.appendChild(docLink);\n",
              "        }\n",
              "      </script>\n",
              "    </div>\n",
              "  </div>\n",
              "  "
            ]
          },
          "metadata": {},
          "execution_count": 7
        }
      ]
    },
    {
      "cell_type": "code",
      "source": [
        "%%time\n",
        "dt = DataTransformer()\n",
        "discrete_columns = ['V8', \"Category\"]\n",
        "\n",
        "dt.fit(raw_data=dataToTransform, discrete_columns=discrete_columns)\n",
        "dataTransformed = dt.transform(raw_data=dataToTransform)\n",
        "sampler = DataSampler(data=dataTransformed, output_info=dt.output_info_list, log_frequency=True)\n",
        "\n"
      ],
      "metadata": {
        "colab": {
          "base_uri": "https://localhost:8080/"
        },
        "id": "5R4kfTnKcOKa",
        "outputId": "b70859f4-9d81-42c0-d074-27e61af9e41d"
      },
      "execution_count": 8,
      "outputs": [
        {
          "output_type": "stream",
          "name": "stdout",
          "text": [
            "CPU times: user 1min 3s, sys: 45.3 s, total: 1min 48s\n",
            "Wall time: 1min 28s\n"
          ]
        }
      ]
    },
    {
      "cell_type": "code",
      "source": [
        "df2 = pd.DataFrame(dataTransformed)\n",
        "\n",
        "df2.reset_index(drop=True, inplace=True)\n",
        "data.reset_index(drop=True, inplace=True)\n",
        "\n",
        "dataTotal= pd.concat([data, df2], axis=1)\n",
        "\n"
      ],
      "metadata": {
        "id": "eXeZqjW4ygf4"
      },
      "execution_count": 9,
      "outputs": []
    },
    {
      "cell_type": "code",
      "source": [
        "trainData, testData = train_test_split(dataTotal, test_size=0.10, random_state=41)"
      ],
      "metadata": {
        "id": "bhvOUfyhcM4p"
      },
      "execution_count": 10,
      "outputs": []
    },
    {
      "cell_type": "code",
      "source": [
        "DATASET_COLS = [\"V5\", \"V6\", \"V7\", \"V8\", \"V9\", \"Category\", \"QID\", \"ProductID\", \"QProductID\", 'Category_Beauty', 'Category_Books', 'Category_Clothes', 'Category_Electronics', 'Category_Furniture']\n",
        "cols = [x for x in dataTotal.columns if (x not in DATASET_COLS)]\n",
        "trainX = trainData.loc[:, cols]\n",
        "testX = testData.loc[:,cols]\n",
        "\n",
        "trainX = trainX.values\n",
        "testX = testX.values"
      ],
      "metadata": {
        "id": "IV5H3f_zGlnU"
      },
      "execution_count": 11,
      "outputs": []
    },
    {
      "cell_type": "code",
      "source": [
        "print(trainX.shape)\n",
        "print(testX.shape)\n",
        "\n",
        "Train_No = trainX.shape[0] \n",
        "Test_No = testX.shape[0]"
      ],
      "metadata": {
        "colab": {
          "base_uri": "https://localhost:8080/"
        },
        "id": "wYiBdGSdG1-b",
        "outputId": "c51de5f5-bcf3-4649-b441-93c0a4f4d8da"
      },
      "execution_count": 12,
      "outputs": [
        {
          "output_type": "stream",
          "name": "stdout",
          "text": [
            "(90000, 72)\n",
            "(10000, 72)\n"
          ]
        }
      ]
    },
    {
      "cell_type": "code",
      "metadata": {
        "id": "YXcsJ-e2WIIh",
        "colab": {
          "base_uri": "https://localhost:8080/"
        },
        "outputId": "d467236e-0c9e-4cdb-9aa2-cbff58f291e2"
      },
      "source": [
        "# Number of ranking features that needs imputing\n",
        "Dim = trainX.shape[1] \n",
        "print(\"Dim :\" + str(Dim))"
      ],
      "execution_count": 13,
      "outputs": [
        {
          "output_type": "stream",
          "name": "stdout",
          "text": [
            "Dim :72\n"
          ]
        }
      ]
    },
    {
      "cell_type": "code",
      "source": [
        "#nClass = trainData['Category'].unique().size "
      ],
      "metadata": {
        "id": "mwFKwDwoSiPl"
      },
      "execution_count": 14,
      "outputs": []
    },
    {
      "cell_type": "code",
      "metadata": {
        "id": "4oJOB58XXX0q"
      },
      "source": [
        "##Create one-hot conditional matrix - numpy array\n",
        "c_train, m1, col, opt = sampler.sample_condvec(batch=trainData.shape[0])\n",
        "trainlabelsX = c_train \n",
        "c_test, m1, col, opt = sampler.sample_condvec(batch=testData.shape[0])\n",
        "testlabelsX = c_test "
      ],
      "execution_count": 15,
      "outputs": []
    },
    {
      "cell_type": "code",
      "source": [
        "testlabelsX.shape"
      ],
      "metadata": {
        "colab": {
          "base_uri": "https://localhost:8080/"
        },
        "id": "1ANkkmxo9UBW",
        "outputId": "11863b18-aa8b-4ce3-c48d-412e7ed5fe58"
      },
      "execution_count": 16,
      "outputs": [
        {
          "output_type": "execute_result",
          "data": {
            "text/plain": [
              "(10000, 31)"
            ]
          },
          "metadata": {},
          "execution_count": 16
        }
      ]
    },
    {
      "cell_type": "code",
      "source": [
        "trainlabelsX.shape"
      ],
      "metadata": {
        "colab": {
          "base_uri": "https://localhost:8080/"
        },
        "id": "y6Jvtr2eA3gI",
        "outputId": "0481ce58-b3d5-486e-8f3e-963d44a8e8e7"
      },
      "execution_count": 17,
      "outputs": [
        {
          "output_type": "execute_result",
          "data": {
            "text/plain": [
              "(90000, 31)"
            ]
          },
          "metadata": {},
          "execution_count": 17
        }
      ]
    },
    {
      "cell_type": "markdown",
      "metadata": {
        "id": "p0Dzeid_VRoA"
      },
      "source": [
        "## Train GAN"
      ]
    },
    {
      "cell_type": "code",
      "metadata": {
        "id": "a1WXm-W1ANYs"
      },
      "source": [
        "# Set Hyperparameters\n",
        "# Mini-batch\n",
        "mb_size = 256\n",
        "# Iterations\n",
        "n_epoch = 50\n",
        "# Missing rate\n",
        "p_miss = 0.30\n",
        "# Fully-connected layer sizes (change depending on Dim)\n",
        "col1 = 64 \n",
        "col2 = 64 "
      ],
      "execution_count": 18,
      "outputs": []
    },
    {
      "cell_type": "code",
      "source": [
        "def crearMatrizDimensionDeRepresentacion(C, m, n):\n",
        "    salida = np.ones((m, n)) \n",
        "    for idx_fila in range(C.shape[0]):\n",
        "      acumulador = 0 \n",
        "      for columna_idx in range(len(C[idx_fila])):\n",
        "        column = dt._column_transform_info_list[columna_idx]     \n",
        "        dimension = column.output_dimensions\n",
        "        if C[idx_fila, columna_idx] == 0:\n",
        "          for d in range(dimension):\n",
        "            salida[idx_fila, acumulador+d] = 0\n",
        "        #siempre acumulo dimension    \n",
        "        acumulador = acumulador + dimension\n",
        "    return salida\n",
        "\n",
        "# todo esto es para verificar que este bien armado, la verificacion es ojo :)\n",
        "C_prueba = np.array([[1, 1, 1, 1, 1], [1, 1, 0, 1, 1]]) #np.matrix()\n",
        "print(\"Entrada\")\n",
        "print(C_prueba)\n",
        "m_prueba = 2\n",
        "n_prueba = Dim\n",
        "s = crearMatrizDimensionDeRepresentacion(C_prueba, m_prueba, n_prueba )\n",
        "print(\"---------------\")\n",
        "print(\"Salida\")\n",
        "print(s)\n",
        "\n",
        "print(\"---------------\")\n",
        "print(\"Info\")\n",
        "for id in range(len(dt._column_transform_info_list)):\n",
        "  e = dt._column_transform_info_list[id]\n",
        "  print(\"Clase: \" + e.column_name + \", Dimesion: \"+ str(e.output_dimensions))"
      ],
      "metadata": {
        "colab": {
          "base_uri": "https://localhost:8080/"
        },
        "id": "6R7SyC_X5kYk",
        "outputId": "f5ae0bdb-8e50-4b61-a5bc-5d565b16e203"
      },
      "execution_count": 19,
      "outputs": [
        {
          "output_type": "stream",
          "name": "stdout",
          "text": [
            "Entrada\n",
            "[[1 1 1 1 1]\n",
            " [1 1 0 1 1]]\n",
            "---------------\n",
            "Salida\n",
            "[[1. 1. 1. 1. 1. 1. 1. 1. 1. 1. 1. 1. 1. 1. 1. 1. 1. 1. 1. 1. 1. 1. 1. 1.\n",
            "  1. 1. 1. 1. 1. 1. 1. 1. 1. 1. 1. 1. 1. 1. 1. 1. 1. 1. 1. 1. 1. 1. 1. 1.\n",
            "  1. 1. 1. 1. 1. 1. 1. 1. 1. 1. 1. 1. 1. 1. 1. 1. 1. 1. 1. 1. 1. 1. 1. 1.]\n",
            " [1. 1. 1. 1. 1. 1. 1. 1. 1. 1. 1. 1. 1. 1. 1. 1. 1. 1. 1. 1. 0. 0. 0. 0.\n",
            "  0. 0. 0. 0. 0. 0. 1. 1. 1. 1. 1. 1. 1. 1. 1. 1. 1. 1. 1. 1. 1. 1. 1. 1.\n",
            "  1. 1. 1. 1. 1. 1. 1. 1. 1. 1. 1. 1. 1. 1. 1. 1. 1. 1. 1. 1. 1. 1. 1. 1.]]\n",
            "---------------\n",
            "Info\n",
            "Clase: V5, Dimesion: 11\n",
            "Clase: V6, Dimesion: 9\n",
            "Clase: V7, Dimesion: 10\n",
            "Clase: V8, Dimesion: 26\n",
            "Clase: V9, Dimesion: 11\n",
            "Clase: Category, Dimesion: 5\n"
          ]
        }
      ]
    },
    {
      "cell_type": "code",
      "metadata": {
        "id": "KxXyeVrLXX0q"
      },
      "source": [
        "# Other functions\n",
        "def sample_M(m, realDim, n, p):\n",
        "    A = np.random.uniform(0., 1., size = [m, realDim])\n",
        "    B = A > p\n",
        "    C = 1.*B  \n",
        "    return crearMatrizDimensionDeRepresentacion(C, m, n)\n",
        "\n",
        "realDimesion = dataToTransform.shape[1]\n",
        "trainM = sample_M(Train_No, realDimesion, Dim, p_miss)\n",
        "testM = sample_M(Test_No, realDimesion, Dim, p_miss)\n",
        "\n",
        "def xavier_init(size):\n",
        "    in_dim = size[0]\n",
        "    xavier_stddev = 1. / tf.sqrt(in_dim / 2.)\n",
        "    return tf.random_normal(shape = size, stddev = xavier_stddev)\n",
        "\n",
        "def sample_Z(m, n):\n",
        "    return np.random.uniform(0., 0.1, size = [m, n])        \n",
        "\n",
        "def sample_idx(m, n):\n",
        "    A = np.random.permutation(m)\n",
        "    idx = A[:n]\n",
        "    idx\n",
        "    return idx\n"
      ],
      "execution_count": 28,
      "outputs": []
    },
    {
      "cell_type": "code",
      "source": [
        "trainM"
      ],
      "metadata": {
        "id": "-KUsEU6d_-yv",
        "outputId": "f6f457a2-a3e0-437a-86a9-e4feab59d0c3",
        "colab": {
          "base_uri": "https://localhost:8080/"
        }
      },
      "execution_count": 29,
      "outputs": [
        {
          "output_type": "execute_result",
          "data": {
            "text/plain": [
              "array([[1., 1., 1., ..., 1., 1., 1.],\n",
              "       [0., 0., 0., ..., 1., 1., 1.],\n",
              "       [1., 1., 1., ..., 1., 1., 1.],\n",
              "       ...,\n",
              "       [1., 1., 1., ..., 1., 1., 1.],\n",
              "       [1., 1., 1., ..., 1., 1., 1.],\n",
              "       [1., 1., 1., ..., 1., 1., 1.]])"
            ]
          },
          "metadata": {},
          "execution_count": 29
        }
      ]
    },
    {
      "cell_type": "code",
      "metadata": {
        "id": "ur_9lEiZXX0r"
      },
      "source": [
        "\n",
        "tf.disable_v2_behavior()\n",
        "#Tensors\n",
        "X = tf.placeholder(tf.float32, shape = [None, Dim])\n",
        "M = tf.placeholder(tf.float32, shape = [None, Dim])\n",
        "H = tf.placeholder(tf.float32, shape = [None, Dim])\n",
        "Z = tf.placeholder(tf.float32, shape = [None, Dim])\n",
        "C = tf.placeholder(tf.float32, shape = [None, trainlabelsX.shape[1]])\n",
        "\n",
        "D_W1 = tf.Variable(xavier_init([Dim*2 + trainlabelsX.shape[1], col1]))    \n",
        "D_b1 = tf.Variable(tf.zeros(shape = [col1]))\n",
        "D_W2 = tf.Variable(xavier_init([col1, col2]))\n",
        "D_b2 = tf.Variable(tf.zeros(shape = [col2]))\n",
        "D_W3 = tf.Variable(xavier_init([col2, Dim]))\n",
        "D_b3 = tf.Variable(tf.zeros(shape = [Dim]))   \n",
        "\n",
        "G_W1 = tf.Variable(xavier_init([Dim*2 + trainlabelsX.shape[1], col1]))     \n",
        "G_b1 = tf.Variable(tf.zeros(shape = [col1]))\n",
        "G_W2 = tf.Variable(xavier_init([col1, col2]))\n",
        "G_b2 = tf.Variable(tf.zeros(shape = [col2]))\n",
        "G_W3 = tf.Variable(xavier_init([col2, Dim]))\n",
        "G_b3 = tf.Variable(tf.zeros(shape = [Dim]))"
      ],
      "execution_count": 30,
      "outputs": []
    },
    {
      "cell_type": "code",
      "metadata": {
        "id": "DjoshIZeXX0r",
        "colab": {
          "base_uri": "https://localhost:8080/"
        },
        "outputId": "676e53e0-6af3-489b-ab98-c9427a902046"
      },
      "source": [
        "%%time \n",
        "#Setting up conditional generator\n",
        "def generator_conditional(x,z,m,c):\n",
        "    inp = m * x + (1-m) * z  \n",
        "    inputs = tf.concat(axis = 1, values = [inp,c,m])  \n",
        "    print(\"G input: \" + str(inputs.shape))\n",
        "    G_h1 = tf.nn.relu(tf.matmul(inputs, G_W1) + G_b1)\n",
        "    G_h2 = tf.nn.relu(tf.matmul(G_h1, G_W2) + G_b2)\n",
        "    G_est = tf.matmul(G_h2, G_W3) + G_b3\n",
        "    return G_est\n",
        "\n",
        "    \n",
        "#Setting up conditional discriminator\n",
        "def discriminator_conditional(x, m, g, h, c):\n",
        "    inp = m * x + (1-m) * g  \n",
        "    inputs = tf.concat(axis = 1, values = [inp,c,h])  \n",
        "    D_h1 = tf.nn.relu(tf.matmul(inputs, D_W1) + D_b1)\n",
        "    D_h2 = tf.nn.relu(tf.matmul(D_h1, D_W2) + D_b2)\n",
        "    D_logit = tf.matmul(D_h2, D_W3) + D_b3\n",
        "    D_prob = tf.nn.sigmoid(D_logit)  \n",
        "    return D_prob\n",
        "\n",
        "#Generate fake copies\n",
        "#print(\"X: \" + str(X.shape))\n",
        "#print(\"Z: \" + str(Z.shape))\n",
        "#print(\"M: \" + str(M.shape))\n",
        "#print(\"C: \" + str(C.shape))\n",
        "\n",
        "G_sample = generator_conditional(X,Z,M,C)\n",
        "D_prob = discriminator_conditional(X, M, G_sample, H,C)\n",
        "\n",
        "D_loss1 = -tf.reduce_mean(M * tf.log(D_prob + 1e-8) + (1-M) * tf.log(1. - D_prob + 1e-8)) * 2\n",
        "G_loss1 = -tf.reduce_mean((1-M) * tf.log(D_prob + 1e-8)) / tf.reduce_mean(1-M)\n",
        "MSE_train_loss = tf.reduce_mean((M * X - M * G_sample)**2) / tf.reduce_mean(M)\n",
        "MSE_test_loss = tf.reduce_mean(((1-M) * X - (1-M)*G_sample)**2) / tf.reduce_mean(1-M)\n",
        "\n",
        "D_loss = D_loss1 + MSE_test_loss\n",
        "G_loss = G_loss1 + 10 * MSE_train_loss \n",
        "\n",
        "\n",
        "#Imputed Copy\n",
        "Imputed_copy = M * X + (1-M) * G_sample\n",
        "\n",
        "#Adam Optimizer\n",
        "D_params = [D_W1, D_W2, D_W3, D_b1, D_b2, D_b3]\n",
        "G_params = [G_W1, G_W2, G_W3, G_b1, G_b2, G_b3]\n",
        "D_solver = tf.train.AdamOptimizer().minimize(D_loss, var_list=D_params)\n",
        "G_solver = tf.train.AdamOptimizer().minimize(G_loss, var_list=G_params)"
      ],
      "execution_count": 31,
      "outputs": [
        {
          "output_type": "stream",
          "name": "stdout",
          "text": [
            "G input: (?, 175)\n",
            "CPU times: user 405 ms, sys: 10.9 ms, total: 415 ms\n",
            "Wall time: 416 ms\n"
          ]
        }
      ]
    },
    {
      "cell_type": "code",
      "metadata": {
        "id": "_SM7ErQjdfqQ",
        "colab": {
          "base_uri": "https://localhost:8080/"
        },
        "outputId": "05a966b4-974e-41d1-9dc9-f6e6b37bfb87"
      },
      "source": [
        "%%time\n",
        "sess = tf.Session()\n",
        "sess.run(tf.global_variables_initializer())\n",
        "\n",
        "\n",
        "i = 1\n",
        "DiscriminatorLoss = []\n",
        "GeneratorLoss = []\n",
        "IterationsRecord = []\n",
        "\n",
        "tqdm(range(n_epoch))\n",
        "\n",
        "realDimesion = dataToTransform.shape[1]\n",
        "\n",
        "for it in tqdm(range(n_epoch)):\n",
        "    \n",
        "    mb_idx = sample_idx(Train_No, mb_size)\n",
        "    X_mb = trainX[mb_idx,:]  \n",
        "    Z_mb = sample_Z(mb_size, Dim) \n",
        "    M_mb = trainM[mb_idx,:]  \n",
        "    H_mb1 = sample_M(mb_size, realDimesion, Dim, p_miss)\n",
        "    H_mb = M_mb * H_mb1\n",
        "    C_mb = trainlabelsX[mb_idx, :]\n",
        "    \n",
        "    #print(\"M_mb: \" + str(M_mb.shape))\n",
        "    #print(\"X_mb: \" + str(X_mb.shape))\n",
        "    #print(\"Z_mb: \" + str(Z_mb.shape))\n",
        "    #print(\"H_mb: \" + str(H_mb.shape))\n",
        "    #print(\"C_mb: \" + str(C_mb.shape))\n",
        "\n",
        "    New_X_mb = M_mb * X_mb + (1-M_mb) * Z_mb  # Missing Data Introduce\n",
        "    \n",
        "    _, D_loss = sess.run([D_solver, D_loss1], feed_dict = {X: X_mb, M: M_mb, Z: New_X_mb, H: H_mb, C: C_mb})\n",
        "    _, G_loss, MSE_train_loss_curr, MSE_test_loss_curr = sess.run([G_solver, G_loss1, MSE_train_loss, MSE_test_loss],\n",
        "                                                                       feed_dict = {X: X_mb, M: M_mb, Z: New_X_mb, H: H_mb, C: C_mb})\n",
        "         \n",
        "        \n",
        "    #%% Intermediate Losses\n",
        "    if it % 50 == 0:\n",
        "        IterationsRecord.append(it)\n",
        "        DiscriminatorLoss.append(D_loss)\n",
        "        GeneratorLoss.append(G_loss)\n",
        "        print('Iter: {}'.format(it))\n",
        "        print('Dloss: {:.4}'.format(D_loss))\n",
        "        print('Gloss: {:.4}'.format(G_loss))\n",
        "        print()\n",
        "\n"
      ],
      "execution_count": 32,
      "outputs": [
        {
          "output_type": "stream",
          "name": "stderr",
          "text": [
            "  0%|          | 0/50 [00:00<?, ?it/s]\n",
            " 24%|██▍       | 12/50 [00:00<00:00, 51.83it/s]"
          ]
        },
        {
          "output_type": "stream",
          "name": "stdout",
          "text": [
            "Iter: 0\n",
            "Dloss: 1.528\n",
            "Gloss: 0.7587\n",
            "\n"
          ]
        },
        {
          "output_type": "stream",
          "name": "stderr",
          "text": [
            "100%|██████████| 50/50 [00:00<00:00, 75.25it/s]"
          ]
        },
        {
          "output_type": "stream",
          "name": "stdout",
          "text": [
            "CPU times: user 762 ms, sys: 46 ms, total: 808 ms\n",
            "Wall time: 781 ms\n"
          ]
        },
        {
          "output_type": "stream",
          "name": "stderr",
          "text": [
            "\n"
          ]
        }
      ]
    },
    {
      "cell_type": "code",
      "source": [
        "def mostrarDiferencias(X_mb,Imputed_copy_v2 ):\n",
        "    X_mb_real = dt.inverse_transform(X_mb)\n",
        "    #print(\"X_mb_real: \")\n",
        "    #print(X_mb_real)\n",
        "\n",
        "    imputed_real = dt.inverse_transform(Imputed_copy_v2)\n",
        "    #print(\"imputed_real: \")\n",
        "    #print(imputed_real)\n",
        "\n",
        "    print(X_mb_real.compare(imputed_real, keep_equal=True, align_axis=0, keep_shape=True).head(20))\n",
        "\n",
        "    "
      ],
      "metadata": {
        "id": "fBxRVTIFrG0l"
      },
      "execution_count": 33,
      "outputs": []
    },
    {
      "cell_type": "markdown",
      "metadata": {
        "id": "LTrN-OW-XX0y"
      },
      "source": [
        "### Record some summary statistics\n"
      ]
    },
    {
      "cell_type": "code",
      "metadata": {
        "id": "MVZlk-9_Xwad",
        "colab": {
          "base_uri": "https://localhost:8080/"
        },
        "outputId": "2306e1d4-2f8f-42ad-ba52-b923c9025c67"
      },
      "source": [
        "#Getting imputations for test ranking dataset + RMSE.\n",
        "N_imputations = 10\n",
        "RMSEoutput = []\n",
        "\n",
        "for j in range(N_imputations):\n",
        "    Z_mb = sample_Z(Test_No, Dim) \n",
        "    M_mb = testM\n",
        "    X_mb = testX\n",
        "        \n",
        "    New_X_mb = M_mb * X_mb + (1-M_mb) * Z_mb       \n",
        "    New_C_mb = testlabelsX\n",
        "    \n",
        "    MSE_final, Sample, Imputed_copy_v2, M_v2 = sess.run([MSE_test_loss, G_sample, Imputed_copy, M], feed_dict = {X: testX, M: testM, Z: New_X_mb, C: New_C_mb})\n",
        "\n",
        "\n",
        "    #mostrarDiferencias(X_mb, Imputed_copy_v2)\n",
        "\n",
        "    print(\"MSE_final: \" + str(MSE_final))\n",
        "    RMSEoutput.append(np.sqrt(MSE_final))\n",
        "    print(\"Done with imputation\", j)\n"
      ],
      "execution_count": 34,
      "outputs": [
        {
          "output_type": "stream",
          "name": "stdout",
          "text": [
            "MSE_final: 0.09064088\n",
            "Done with imputation 0\n",
            "MSE_final: 0.090651475\n",
            "Done with imputation 1\n",
            "MSE_final: 0.090663455\n",
            "Done with imputation 2\n",
            "MSE_final: 0.09063725\n",
            "Done with imputation 3\n",
            "MSE_final: 0.09064742\n",
            "Done with imputation 4\n",
            "MSE_final: 0.090673186\n",
            "Done with imputation 5\n",
            "MSE_final: 0.09066788\n",
            "Done with imputation 6\n",
            "MSE_final: 0.09064206\n",
            "Done with imputation 7\n",
            "MSE_final: 0.09064127\n",
            "Done with imputation 8\n",
            "MSE_final: 0.09063572\n",
            "Done with imputation 9\n"
          ]
        }
      ]
    },
    {
      "cell_type": "code",
      "metadata": {
        "id": "ADxd7Ck0XX0y",
        "colab": {
          "base_uri": "https://localhost:8080/"
        },
        "outputId": "79154218-df67-4972-f36d-96f51a7f401e"
      },
      "source": [
        "data = {'Imputation': [str(i).zfill(2) for i in range(1,11)],\n",
        "        'RMSE': RMSEoutput}\n",
        "RMSEDF = pandas.DataFrame(data)\n",
        "print(\"Promedio de las 10 imputaciones: \" + str(RMSEDF[\"RMSE\"].mean(axis=0)))\n",
        "RMSEDF.loc[len(RMSEDF.index)] = ['prmedio',RMSEDF[\"RMSE\"].mean(axis=0)]\n",
        "RMSEDF.to_csv('rmse_'+ str(p_miss)+'.csv', index=False, header=True)"
      ],
      "execution_count": 35,
      "outputs": [
        {
          "output_type": "stream",
          "name": "stdout",
          "text": [
            "Promedio de las 10 imputaciones: 0.30108148\n"
          ]
        }
      ]
    }
  ]
}