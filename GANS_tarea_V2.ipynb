{
  "nbformat": 4,
  "nbformat_minor": 0,
  "metadata": {
    "kernelspec": {
      "display_name": "conda_tensorflow_p36",
      "language": "python",
      "name": "conda_tensorflow_p36"
    },
    "language_info": {
      "codemirror_mode": {
        "name": "ipython",
        "version": 3
      },
      "file_extension": ".py",
      "mimetype": "text/x-python",
      "name": "python",
      "nbconvert_exporter": "python",
      "pygments_lexer": "ipython3",
      "version": "3.6.10"
    },
    "colab": {
      "provenance": [],
      "include_colab_link": true
    },
    "accelerator": "GPU",
    "gpuClass": "standard"
  },
  "cells": [
    {
      "cell_type": "markdown",
      "metadata": {
        "id": "view-in-github",
        "colab_type": "text"
      },
      "source": [
        "<a href=\"https://colab.research.google.com/github/veiro/Extentend_Data_imputation_with_CTGAN/blob/main/GANS_tarea_V2.ipynb\" target=\"_parent\"><img src=\"https://colab.research.google.com/assets/colab-badge.svg\" alt=\"Open In Colab\"/></a>"
      ]
    },
    {
      "cell_type": "markdown",
      "metadata": {
        "id": "cI1a0DMgzsi9"
      },
      "source": [
        "Nov 1, 2019\n",
        "\n",
        "Conditional Imputation GAN on synthetic ranking data. Please do not distribute.\n",
        "\n"
      ]
    },
    {
      "cell_type": "markdown",
      "metadata": {
        "id": "h_VYRYhcXX0o"
      },
      "source": [
        "### Reading Data"
      ]
    },
    {
      "cell_type": "code",
      "source": [
        "!pip install sdv\n",
        "# la primera vez da error, reiniciar ambiente y ejecutar todo de nuevo"
      ],
      "metadata": {
        "colab": {
          "base_uri": "https://localhost:8080/"
        },
        "id": "Za1DvB53JN6P",
        "outputId": "dc5d15e7-34e5-4592-bae0-cb016e84400a"
      },
      "execution_count": 1,
      "outputs": [
        {
          "output_type": "stream",
          "name": "stdout",
          "text": [
            "Looking in indexes: https://pypi.org/simple, https://us-python.pkg.dev/colab-wheels/public/simple/\n",
            "Requirement already satisfied: sdv in /usr/local/lib/python3.8/dist-packages (0.17.2)\n",
            "Requirement already satisfied: rdt<1.3.0,>=1.2.0 in /usr/local/lib/python3.8/dist-packages (from sdv) (1.2.1)\n",
            "Requirement already satisfied: Faker<15,>=10 in /usr/local/lib/python3.8/dist-packages (from sdv) (14.2.1)\n",
            "Requirement already satisfied: cloudpickle<3.0,>=2.1.0 in /usr/local/lib/python3.8/dist-packages (from sdv) (2.2.0)\n",
            "Requirement already satisfied: numpy<2,>=1.20.0 in /usr/local/lib/python3.8/dist-packages (from sdv) (1.21.6)\n",
            "Requirement already satisfied: copulas<0.8,>=0.7.0 in /usr/local/lib/python3.8/dist-packages (from sdv) (0.7.0)\n",
            "Requirement already satisfied: deepecho<0.4,>=0.3.0.post1 in /usr/local/lib/python3.8/dist-packages (from sdv) (0.3.0.post1)\n",
            "Requirement already satisfied: sdmetrics<0.9,>=0.8.0 in /usr/local/lib/python3.8/dist-packages (from sdv) (0.8.1)\n",
            "Requirement already satisfied: ctgan<0.6,>=0.5.2 in /usr/local/lib/python3.8/dist-packages (from sdv) (0.5.2)\n",
            "Requirement already satisfied: graphviz<1,>=0.13.2 in /usr/local/lib/python3.8/dist-packages (from sdv) (0.20.1)\n",
            "Requirement already satisfied: pandas<2,>=1.1.3 in /usr/local/lib/python3.8/dist-packages (from sdv) (1.3.5)\n",
            "Requirement already satisfied: tqdm<5,>=4.15 in /usr/local/lib/python3.8/dist-packages (from sdv) (4.64.1)\n",
            "Requirement already satisfied: scipy<2,>=1.5.4 in /usr/local/lib/python3.8/dist-packages (from copulas<0.8,>=0.7.0->sdv) (1.7.3)\n",
            "Requirement already satisfied: matplotlib<4,>=3.4.0 in /usr/local/lib/python3.8/dist-packages (from copulas<0.8,>=0.7.0->sdv) (3.6.2)\n",
            "Requirement already satisfied: torch<2,>=1.8.0 in /usr/local/lib/python3.8/dist-packages (from ctgan<0.6,>=0.5.2->sdv) (1.13.0+cu116)\n",
            "Requirement already satisfied: packaging<22,>=20 in /usr/local/lib/python3.8/dist-packages (from ctgan<0.6,>=0.5.2->sdv) (21.3)\n",
            "Requirement already satisfied: scikit-learn<2,>=0.24 in /usr/local/lib/python3.8/dist-packages (from ctgan<0.6,>=0.5.2->sdv) (1.0.2)\n",
            "Requirement already satisfied: torchvision<1,>=0.9.0 in /usr/local/lib/python3.8/dist-packages (from ctgan<0.6,>=0.5.2->sdv) (0.14.0+cu116)\n",
            "Requirement already satisfied: python-dateutil>=2.4 in /usr/local/lib/python3.8/dist-packages (from Faker<15,>=10->sdv) (2.8.2)\n",
            "Requirement already satisfied: cycler>=0.10 in /usr/local/lib/python3.8/dist-packages (from matplotlib<4,>=3.4.0->copulas<0.8,>=0.7.0->sdv) (0.11.0)\n",
            "Requirement already satisfied: pillow>=6.2.0 in /usr/local/lib/python3.8/dist-packages (from matplotlib<4,>=3.4.0->copulas<0.8,>=0.7.0->sdv) (7.1.2)\n",
            "Requirement already satisfied: kiwisolver>=1.0.1 in /usr/local/lib/python3.8/dist-packages (from matplotlib<4,>=3.4.0->copulas<0.8,>=0.7.0->sdv) (1.4.4)\n",
            "Requirement already satisfied: contourpy>=1.0.1 in /usr/local/lib/python3.8/dist-packages (from matplotlib<4,>=3.4.0->copulas<0.8,>=0.7.0->sdv) (1.0.6)\n",
            "Requirement already satisfied: fonttools>=4.22.0 in /usr/local/lib/python3.8/dist-packages (from matplotlib<4,>=3.4.0->copulas<0.8,>=0.7.0->sdv) (4.38.0)\n",
            "Requirement already satisfied: pyparsing>=2.2.1 in /usr/local/lib/python3.8/dist-packages (from matplotlib<4,>=3.4.0->copulas<0.8,>=0.7.0->sdv) (3.0.9)\n",
            "Requirement already satisfied: pytz>=2017.3 in /usr/local/lib/python3.8/dist-packages (from pandas<2,>=1.1.3->sdv) (2022.6)\n",
            "Requirement already satisfied: six>=1.5 in /usr/local/lib/python3.8/dist-packages (from python-dateutil>=2.4->Faker<15,>=10->sdv) (1.15.0)\n",
            "Requirement already satisfied: pyyaml<6,>=5.4.1 in /usr/local/lib/python3.8/dist-packages (from rdt<1.3.0,>=1.2.0->sdv) (5.4.1)\n",
            "Requirement already satisfied: psutil<6,>=5.7 in /usr/local/lib/python3.8/dist-packages (from rdt<1.3.0,>=1.2.0->sdv) (5.9.4)\n",
            "Requirement already satisfied: threadpoolctl>=2.0.0 in /usr/local/lib/python3.8/dist-packages (from scikit-learn<2,>=0.24->ctgan<0.6,>=0.5.2->sdv) (3.1.0)\n",
            "Requirement already satisfied: joblib>=0.11 in /usr/local/lib/python3.8/dist-packages (from scikit-learn<2,>=0.24->ctgan<0.6,>=0.5.2->sdv) (1.2.0)\n",
            "Requirement already satisfied: plotly<6,>=5.10.0 in /usr/local/lib/python3.8/dist-packages (from sdmetrics<0.9,>=0.8.0->sdv) (5.11.0)\n",
            "Requirement already satisfied: tenacity>=6.2.0 in /usr/local/lib/python3.8/dist-packages (from plotly<6,>=5.10.0->sdmetrics<0.9,>=0.8.0->sdv) (8.1.0)\n",
            "Requirement already satisfied: typing-extensions in /usr/local/lib/python3.8/dist-packages (from torch<2,>=1.8.0->ctgan<0.6,>=0.5.2->sdv) (4.4.0)\n",
            "Requirement already satisfied: requests in /usr/local/lib/python3.8/dist-packages (from torchvision<1,>=0.9.0->ctgan<0.6,>=0.5.2->sdv) (2.23.0)\n",
            "Requirement already satisfied: certifi>=2017.4.17 in /usr/local/lib/python3.8/dist-packages (from requests->torchvision<1,>=0.9.0->ctgan<0.6,>=0.5.2->sdv) (2022.12.7)\n",
            "Requirement already satisfied: chardet<4,>=3.0.2 in /usr/local/lib/python3.8/dist-packages (from requests->torchvision<1,>=0.9.0->ctgan<0.6,>=0.5.2->sdv) (3.0.4)\n",
            "Requirement already satisfied: urllib3!=1.25.0,!=1.25.1,<1.26,>=1.21.1 in /usr/local/lib/python3.8/dist-packages (from requests->torchvision<1,>=0.9.0->ctgan<0.6,>=0.5.2->sdv) (1.24.3)\n",
            "Requirement already satisfied: idna<3,>=2.5 in /usr/local/lib/python3.8/dist-packages (from requests->torchvision<1,>=0.9.0->ctgan<0.6,>=0.5.2->sdv) (2.10)\n"
          ]
        }
      ]
    },
    {
      "cell_type": "code",
      "source": [
        "from sdv.tabular import CTGAN\n",
        "from ctgan.data_transformer import DataTransformer\n",
        "from ctgan.data_sampler import DataSampler"
      ],
      "metadata": {
        "id": "-x_GkqFmJP9d"
      },
      "execution_count": 2,
      "outputs": []
    },
    {
      "cell_type": "code",
      "metadata": {
        "id": "4s8g1lXYXX0e"
      },
      "source": [
        "import os\n",
        "import sys\n",
        "\n",
        "import tensorflow as tf\n",
        "import numpy as np\n",
        "import matplotlib.pyplot as plt\n",
        "import matplotlib.gridspec as gridspec\n",
        "from tqdm import tqdm\n",
        "import pandas\n",
        "from sklearn.model_selection import train_test_split\n",
        "import pandas as pd"
      ],
      "execution_count": 3,
      "outputs": []
    },
    {
      "cell_type": "code",
      "source": [
        "%%time\n",
        "data_filepath = 'https://raw.githubusercontent.com/gdeng96/cond-imp-gan-ranking/main/synthetic_ranking_data.csv'\n",
        "data_full = pandas.read_csv(data_filepath)\n",
        "\n",
        "print(\"Cantidad de datos reales:\")\n",
        "print(data_full.shape)\n",
        "\n",
        "data =  data_full.sample(n=100000, random_state=1)\n",
        "#data =  data_full[0:100000] #.sample(n=100000, random_state=1)\n",
        "\n",
        "print(\"Cantidad de datos sampleados:\")\n",
        "print(data.shape)"
      ],
      "metadata": {
        "colab": {
          "base_uri": "https://localhost:8080/"
        },
        "id": "Xe-Xcs2qqVR3",
        "outputId": "dfcde5da-84b6-450b-aff8-71aecb6e6030"
      },
      "execution_count": 4,
      "outputs": [
        {
          "output_type": "stream",
          "name": "stdout",
          "text": [
            "Cantidad de datos reales:\n",
            "(640000, 9)\n",
            "Cantidad de datos sampleados:\n",
            "(100000, 9)\n",
            "CPU times: user 835 ms, sys: 169 ms, total: 1 s\n",
            "Wall time: 1.36 s\n"
          ]
        }
      ]
    },
    {
      "cell_type": "markdown",
      "metadata": {
        "id": "jFLmBK1-XX0p"
      },
      "source": [
        "### Preparing Data"
      ]
    },
    {
      "cell_type": "code",
      "source": [
        "RANKING_COLS = [\"V5\", \"V6\", \"V7\", \"V8\", \"V9\"]\n",
        "dataToTransform = data.loc[:, RANKING_COLS]"
      ],
      "metadata": {
        "id": "OU_CHHHnHMfz"
      },
      "execution_count": 5,
      "outputs": []
    },
    {
      "cell_type": "code",
      "source": [
        "%%time\n",
        "dt = DataTransformer()\n",
        "discrete_columns = ['V8']\n",
        "\n",
        "dt.fit(raw_data=dataToTransform, discrete_columns=discrete_columns)\n",
        "dataTransformed = dt.transform(raw_data=dataToTransform)\n",
        "#sampler = DataSampler(data=dataTransformed, output_info=dt.output_info_list, log_frequency=True)\n",
        "#condvec = sampler.sample_condvec(batch=10)\n"
      ],
      "metadata": {
        "colab": {
          "base_uri": "https://localhost:8080/"
        },
        "id": "5R4kfTnKcOKa",
        "outputId": "7916b797-8c03-4137-d34f-3cd4f87f9693"
      },
      "execution_count": 6,
      "outputs": [
        {
          "output_type": "stream",
          "name": "stdout",
          "text": [
            "CPU times: user 33.3 s, sys: 26.9 s, total: 1min\n",
            "Wall time: 54.3 s\n"
          ]
        }
      ]
    },
    {
      "cell_type": "code",
      "source": [
        "df2 = pd.DataFrame(dataTransformed)\n",
        "\n",
        "df2.reset_index(drop=True, inplace=True)\n",
        "data.reset_index(drop=True, inplace=True)\n",
        "\n",
        "dataTotal= pd.concat([data, df2], axis=1)\n",
        "\n"
      ],
      "metadata": {
        "id": "eXeZqjW4ygf4"
      },
      "execution_count": 7,
      "outputs": []
    },
    {
      "cell_type": "code",
      "source": [
        "dataTotal"
      ],
      "metadata": {
        "colab": {
          "base_uri": "https://localhost:8080/",
          "height": 423
        },
        "id": "zyGTf3pVwM-P",
        "outputId": "123b0119-eb91-49e4-9b12-747d4b7b35f1"
      },
      "execution_count": 8,
      "outputs": [
        {
          "output_type": "execute_result",
          "data": {
            "text/plain": [
              "          Category              QID  ProductID          QProductID        V5  \\\n",
              "0            Books         Books634         30         Books634-30  0.575460   \n",
              "1           Beauty        Beauty922         21        Beauty922-21  2.826844   \n",
              "2          Clothes      Clothes1598         30      Clothes1598-30  5.150209   \n",
              "3      Electronics  Electronics1691         52  Electronics1691-52  3.108515   \n",
              "4           Beauty       Beauty1823         50       Beauty1823-50  3.272858   \n",
              "...            ...              ...        ...                 ...       ...   \n",
              "99995        Books        Books1315         40        Books1315-40 -1.760588   \n",
              "99996      Clothes      Clothes1391         34      Clothes1391-34  2.981975   \n",
              "99997  Electronics  Electronics1152         55  Electronics1152-55  4.086355   \n",
              "99998      Clothes      Clothes1665         58      Clothes1665-58  2.674404   \n",
              "99999    Furniture     Furniture727         41     Furniture727-41  1.624296   \n",
              "\n",
              "              V6        V7  V8         V9         0  ...   56   57   58   59  \\\n",
              "0       2.181218  0.361658   2   2.017008  0.013654  ...  1.0  0.0  0.0  0.0   \n",
              "1      10.096474  0.082438   3  19.432840  0.100145  ...  0.0  0.0  0.0  0.0   \n",
              "2       0.739852  0.028061  14  30.689661  0.216079  ...  0.0  0.0  0.0  0.0   \n",
              "3       5.493077  0.773000  12  12.173721 -0.153764  ...  0.0  0.0  1.0  0.0   \n",
              "4       1.138467  1.360502   4  11.082728  0.415536  ...  0.0  0.0  1.0  0.0   \n",
              "...          ...       ...  ..        ...       ...  ...  ...  ...  ...  ...   \n",
              "99995   4.236946  4.033930   2   0.654007 -0.268699  ...  1.0  0.0  0.0  0.0   \n",
              "99996   1.346800  0.429989   5  31.436584 -0.239323  ...  0.0  0.0  0.0  0.0   \n",
              "99997   4.320428  1.167587  13  15.418107  0.067731  ...  0.0  0.0  0.0  0.0   \n",
              "99998   1.387580  1.151788   9   0.226623 -0.007651  ...  0.0  0.0  0.0  0.0   \n",
              "99999   2.635301  1.774494   7   8.991447  0.207441  ...  0.0  0.0  0.0  0.0   \n",
              "\n",
              "        60   61   62   63   64   65  \n",
              "0      0.0  0.0  0.0  0.0  0.0  0.0  \n",
              "1      0.0  0.0  1.0  0.0  0.0  0.0  \n",
              "2      0.0  0.0  0.0  0.0  0.0  1.0  \n",
              "3      0.0  0.0  0.0  0.0  0.0  0.0  \n",
              "4      0.0  0.0  0.0  0.0  0.0  0.0  \n",
              "...    ...  ...  ...  ...  ...  ...  \n",
              "99995  0.0  0.0  0.0  0.0  0.0  0.0  \n",
              "99996  0.0  0.0  0.0  0.0  0.0  1.0  \n",
              "99997  0.0  0.0  1.0  0.0  0.0  0.0  \n",
              "99998  0.0  1.0  0.0  0.0  0.0  0.0  \n",
              "99999  0.0  0.0  0.0  1.0  0.0  0.0  \n",
              "\n",
              "[100000 rows x 75 columns]"
            ],
            "text/html": [
              "\n",
              "  <div id=\"df-67523571-e72b-447d-bf10-868e5b38c609\">\n",
              "    <div class=\"colab-df-container\">\n",
              "      <div>\n",
              "<style scoped>\n",
              "    .dataframe tbody tr th:only-of-type {\n",
              "        vertical-align: middle;\n",
              "    }\n",
              "\n",
              "    .dataframe tbody tr th {\n",
              "        vertical-align: top;\n",
              "    }\n",
              "\n",
              "    .dataframe thead th {\n",
              "        text-align: right;\n",
              "    }\n",
              "</style>\n",
              "<table border=\"1\" class=\"dataframe\">\n",
              "  <thead>\n",
              "    <tr style=\"text-align: right;\">\n",
              "      <th></th>\n",
              "      <th>Category</th>\n",
              "      <th>QID</th>\n",
              "      <th>ProductID</th>\n",
              "      <th>QProductID</th>\n",
              "      <th>V5</th>\n",
              "      <th>V6</th>\n",
              "      <th>V7</th>\n",
              "      <th>V8</th>\n",
              "      <th>V9</th>\n",
              "      <th>0</th>\n",
              "      <th>...</th>\n",
              "      <th>56</th>\n",
              "      <th>57</th>\n",
              "      <th>58</th>\n",
              "      <th>59</th>\n",
              "      <th>60</th>\n",
              "      <th>61</th>\n",
              "      <th>62</th>\n",
              "      <th>63</th>\n",
              "      <th>64</th>\n",
              "      <th>65</th>\n",
              "    </tr>\n",
              "  </thead>\n",
              "  <tbody>\n",
              "    <tr>\n",
              "      <th>0</th>\n",
              "      <td>Books</td>\n",
              "      <td>Books634</td>\n",
              "      <td>30</td>\n",
              "      <td>Books634-30</td>\n",
              "      <td>0.575460</td>\n",
              "      <td>2.181218</td>\n",
              "      <td>0.361658</td>\n",
              "      <td>2</td>\n",
              "      <td>2.017008</td>\n",
              "      <td>0.013654</td>\n",
              "      <td>...</td>\n",
              "      <td>1.0</td>\n",
              "      <td>0.0</td>\n",
              "      <td>0.0</td>\n",
              "      <td>0.0</td>\n",
              "      <td>0.0</td>\n",
              "      <td>0.0</td>\n",
              "      <td>0.0</td>\n",
              "      <td>0.0</td>\n",
              "      <td>0.0</td>\n",
              "      <td>0.0</td>\n",
              "    </tr>\n",
              "    <tr>\n",
              "      <th>1</th>\n",
              "      <td>Beauty</td>\n",
              "      <td>Beauty922</td>\n",
              "      <td>21</td>\n",
              "      <td>Beauty922-21</td>\n",
              "      <td>2.826844</td>\n",
              "      <td>10.096474</td>\n",
              "      <td>0.082438</td>\n",
              "      <td>3</td>\n",
              "      <td>19.432840</td>\n",
              "      <td>0.100145</td>\n",
              "      <td>...</td>\n",
              "      <td>0.0</td>\n",
              "      <td>0.0</td>\n",
              "      <td>0.0</td>\n",
              "      <td>0.0</td>\n",
              "      <td>0.0</td>\n",
              "      <td>0.0</td>\n",
              "      <td>1.0</td>\n",
              "      <td>0.0</td>\n",
              "      <td>0.0</td>\n",
              "      <td>0.0</td>\n",
              "    </tr>\n",
              "    <tr>\n",
              "      <th>2</th>\n",
              "      <td>Clothes</td>\n",
              "      <td>Clothes1598</td>\n",
              "      <td>30</td>\n",
              "      <td>Clothes1598-30</td>\n",
              "      <td>5.150209</td>\n",
              "      <td>0.739852</td>\n",
              "      <td>0.028061</td>\n",
              "      <td>14</td>\n",
              "      <td>30.689661</td>\n",
              "      <td>0.216079</td>\n",
              "      <td>...</td>\n",
              "      <td>0.0</td>\n",
              "      <td>0.0</td>\n",
              "      <td>0.0</td>\n",
              "      <td>0.0</td>\n",
              "      <td>0.0</td>\n",
              "      <td>0.0</td>\n",
              "      <td>0.0</td>\n",
              "      <td>0.0</td>\n",
              "      <td>0.0</td>\n",
              "      <td>1.0</td>\n",
              "    </tr>\n",
              "    <tr>\n",
              "      <th>3</th>\n",
              "      <td>Electronics</td>\n",
              "      <td>Electronics1691</td>\n",
              "      <td>52</td>\n",
              "      <td>Electronics1691-52</td>\n",
              "      <td>3.108515</td>\n",
              "      <td>5.493077</td>\n",
              "      <td>0.773000</td>\n",
              "      <td>12</td>\n",
              "      <td>12.173721</td>\n",
              "      <td>-0.153764</td>\n",
              "      <td>...</td>\n",
              "      <td>0.0</td>\n",
              "      <td>0.0</td>\n",
              "      <td>1.0</td>\n",
              "      <td>0.0</td>\n",
              "      <td>0.0</td>\n",
              "      <td>0.0</td>\n",
              "      <td>0.0</td>\n",
              "      <td>0.0</td>\n",
              "      <td>0.0</td>\n",
              "      <td>0.0</td>\n",
              "    </tr>\n",
              "    <tr>\n",
              "      <th>4</th>\n",
              "      <td>Beauty</td>\n",
              "      <td>Beauty1823</td>\n",
              "      <td>50</td>\n",
              "      <td>Beauty1823-50</td>\n",
              "      <td>3.272858</td>\n",
              "      <td>1.138467</td>\n",
              "      <td>1.360502</td>\n",
              "      <td>4</td>\n",
              "      <td>11.082728</td>\n",
              "      <td>0.415536</td>\n",
              "      <td>...</td>\n",
              "      <td>0.0</td>\n",
              "      <td>0.0</td>\n",
              "      <td>1.0</td>\n",
              "      <td>0.0</td>\n",
              "      <td>0.0</td>\n",
              "      <td>0.0</td>\n",
              "      <td>0.0</td>\n",
              "      <td>0.0</td>\n",
              "      <td>0.0</td>\n",
              "      <td>0.0</td>\n",
              "    </tr>\n",
              "    <tr>\n",
              "      <th>...</th>\n",
              "      <td>...</td>\n",
              "      <td>...</td>\n",
              "      <td>...</td>\n",
              "      <td>...</td>\n",
              "      <td>...</td>\n",
              "      <td>...</td>\n",
              "      <td>...</td>\n",
              "      <td>...</td>\n",
              "      <td>...</td>\n",
              "      <td>...</td>\n",
              "      <td>...</td>\n",
              "      <td>...</td>\n",
              "      <td>...</td>\n",
              "      <td>...</td>\n",
              "      <td>...</td>\n",
              "      <td>...</td>\n",
              "      <td>...</td>\n",
              "      <td>...</td>\n",
              "      <td>...</td>\n",
              "      <td>...</td>\n",
              "      <td>...</td>\n",
              "    </tr>\n",
              "    <tr>\n",
              "      <th>99995</th>\n",
              "      <td>Books</td>\n",
              "      <td>Books1315</td>\n",
              "      <td>40</td>\n",
              "      <td>Books1315-40</td>\n",
              "      <td>-1.760588</td>\n",
              "      <td>4.236946</td>\n",
              "      <td>4.033930</td>\n",
              "      <td>2</td>\n",
              "      <td>0.654007</td>\n",
              "      <td>-0.268699</td>\n",
              "      <td>...</td>\n",
              "      <td>1.0</td>\n",
              "      <td>0.0</td>\n",
              "      <td>0.0</td>\n",
              "      <td>0.0</td>\n",
              "      <td>0.0</td>\n",
              "      <td>0.0</td>\n",
              "      <td>0.0</td>\n",
              "      <td>0.0</td>\n",
              "      <td>0.0</td>\n",
              "      <td>0.0</td>\n",
              "    </tr>\n",
              "    <tr>\n",
              "      <th>99996</th>\n",
              "      <td>Clothes</td>\n",
              "      <td>Clothes1391</td>\n",
              "      <td>34</td>\n",
              "      <td>Clothes1391-34</td>\n",
              "      <td>2.981975</td>\n",
              "      <td>1.346800</td>\n",
              "      <td>0.429989</td>\n",
              "      <td>5</td>\n",
              "      <td>31.436584</td>\n",
              "      <td>-0.239323</td>\n",
              "      <td>...</td>\n",
              "      <td>0.0</td>\n",
              "      <td>0.0</td>\n",
              "      <td>0.0</td>\n",
              "      <td>0.0</td>\n",
              "      <td>0.0</td>\n",
              "      <td>0.0</td>\n",
              "      <td>0.0</td>\n",
              "      <td>0.0</td>\n",
              "      <td>0.0</td>\n",
              "      <td>1.0</td>\n",
              "    </tr>\n",
              "    <tr>\n",
              "      <th>99997</th>\n",
              "      <td>Electronics</td>\n",
              "      <td>Electronics1152</td>\n",
              "      <td>55</td>\n",
              "      <td>Electronics1152-55</td>\n",
              "      <td>4.086355</td>\n",
              "      <td>4.320428</td>\n",
              "      <td>1.167587</td>\n",
              "      <td>13</td>\n",
              "      <td>15.418107</td>\n",
              "      <td>0.067731</td>\n",
              "      <td>...</td>\n",
              "      <td>0.0</td>\n",
              "      <td>0.0</td>\n",
              "      <td>0.0</td>\n",
              "      <td>0.0</td>\n",
              "      <td>0.0</td>\n",
              "      <td>0.0</td>\n",
              "      <td>1.0</td>\n",
              "      <td>0.0</td>\n",
              "      <td>0.0</td>\n",
              "      <td>0.0</td>\n",
              "    </tr>\n",
              "    <tr>\n",
              "      <th>99998</th>\n",
              "      <td>Clothes</td>\n",
              "      <td>Clothes1665</td>\n",
              "      <td>58</td>\n",
              "      <td>Clothes1665-58</td>\n",
              "      <td>2.674404</td>\n",
              "      <td>1.387580</td>\n",
              "      <td>1.151788</td>\n",
              "      <td>9</td>\n",
              "      <td>0.226623</td>\n",
              "      <td>-0.007651</td>\n",
              "      <td>...</td>\n",
              "      <td>0.0</td>\n",
              "      <td>0.0</td>\n",
              "      <td>0.0</td>\n",
              "      <td>0.0</td>\n",
              "      <td>0.0</td>\n",
              "      <td>1.0</td>\n",
              "      <td>0.0</td>\n",
              "      <td>0.0</td>\n",
              "      <td>0.0</td>\n",
              "      <td>0.0</td>\n",
              "    </tr>\n",
              "    <tr>\n",
              "      <th>99999</th>\n",
              "      <td>Furniture</td>\n",
              "      <td>Furniture727</td>\n",
              "      <td>41</td>\n",
              "      <td>Furniture727-41</td>\n",
              "      <td>1.624296</td>\n",
              "      <td>2.635301</td>\n",
              "      <td>1.774494</td>\n",
              "      <td>7</td>\n",
              "      <td>8.991447</td>\n",
              "      <td>0.207441</td>\n",
              "      <td>...</td>\n",
              "      <td>0.0</td>\n",
              "      <td>0.0</td>\n",
              "      <td>0.0</td>\n",
              "      <td>0.0</td>\n",
              "      <td>0.0</td>\n",
              "      <td>0.0</td>\n",
              "      <td>0.0</td>\n",
              "      <td>1.0</td>\n",
              "      <td>0.0</td>\n",
              "      <td>0.0</td>\n",
              "    </tr>\n",
              "  </tbody>\n",
              "</table>\n",
              "<p>100000 rows × 75 columns</p>\n",
              "</div>\n",
              "      <button class=\"colab-df-convert\" onclick=\"convertToInteractive('df-67523571-e72b-447d-bf10-868e5b38c609')\"\n",
              "              title=\"Convert this dataframe to an interactive table.\"\n",
              "              style=\"display:none;\">\n",
              "        \n",
              "  <svg xmlns=\"http://www.w3.org/2000/svg\" height=\"24px\"viewBox=\"0 0 24 24\"\n",
              "       width=\"24px\">\n",
              "    <path d=\"M0 0h24v24H0V0z\" fill=\"none\"/>\n",
              "    <path d=\"M18.56 5.44l.94 2.06.94-2.06 2.06-.94-2.06-.94-.94-2.06-.94 2.06-2.06.94zm-11 1L8.5 8.5l.94-2.06 2.06-.94-2.06-.94L8.5 2.5l-.94 2.06-2.06.94zm10 10l.94 2.06.94-2.06 2.06-.94-2.06-.94-.94-2.06-.94 2.06-2.06.94z\"/><path d=\"M17.41 7.96l-1.37-1.37c-.4-.4-.92-.59-1.43-.59-.52 0-1.04.2-1.43.59L10.3 9.45l-7.72 7.72c-.78.78-.78 2.05 0 2.83L4 21.41c.39.39.9.59 1.41.59.51 0 1.02-.2 1.41-.59l7.78-7.78 2.81-2.81c.8-.78.8-2.07 0-2.86zM5.41 20L4 18.59l7.72-7.72 1.47 1.35L5.41 20z\"/>\n",
              "  </svg>\n",
              "      </button>\n",
              "      \n",
              "  <style>\n",
              "    .colab-df-container {\n",
              "      display:flex;\n",
              "      flex-wrap:wrap;\n",
              "      gap: 12px;\n",
              "    }\n",
              "\n",
              "    .colab-df-convert {\n",
              "      background-color: #E8F0FE;\n",
              "      border: none;\n",
              "      border-radius: 50%;\n",
              "      cursor: pointer;\n",
              "      display: none;\n",
              "      fill: #1967D2;\n",
              "      height: 32px;\n",
              "      padding: 0 0 0 0;\n",
              "      width: 32px;\n",
              "    }\n",
              "\n",
              "    .colab-df-convert:hover {\n",
              "      background-color: #E2EBFA;\n",
              "      box-shadow: 0px 1px 2px rgba(60, 64, 67, 0.3), 0px 1px 3px 1px rgba(60, 64, 67, 0.15);\n",
              "      fill: #174EA6;\n",
              "    }\n",
              "\n",
              "    [theme=dark] .colab-df-convert {\n",
              "      background-color: #3B4455;\n",
              "      fill: #D2E3FC;\n",
              "    }\n",
              "\n",
              "    [theme=dark] .colab-df-convert:hover {\n",
              "      background-color: #434B5C;\n",
              "      box-shadow: 0px 1px 3px 1px rgba(0, 0, 0, 0.15);\n",
              "      filter: drop-shadow(0px 1px 2px rgba(0, 0, 0, 0.3));\n",
              "      fill: #FFFFFF;\n",
              "    }\n",
              "  </style>\n",
              "\n",
              "      <script>\n",
              "        const buttonEl =\n",
              "          document.querySelector('#df-67523571-e72b-447d-bf10-868e5b38c609 button.colab-df-convert');\n",
              "        buttonEl.style.display =\n",
              "          google.colab.kernel.accessAllowed ? 'block' : 'none';\n",
              "\n",
              "        async function convertToInteractive(key) {\n",
              "          const element = document.querySelector('#df-67523571-e72b-447d-bf10-868e5b38c609');\n",
              "          const dataTable =\n",
              "            await google.colab.kernel.invokeFunction('convertToInteractive',\n",
              "                                                     [key], {});\n",
              "          if (!dataTable) return;\n",
              "\n",
              "          const docLinkHtml = 'Like what you see? Visit the ' +\n",
              "            '<a target=\"_blank\" href=https://colab.research.google.com/notebooks/data_table.ipynb>data table notebook</a>'\n",
              "            + ' to learn more about interactive tables.';\n",
              "          element.innerHTML = '';\n",
              "          dataTable['output_type'] = 'display_data';\n",
              "          await google.colab.output.renderOutput(dataTable, element);\n",
              "          const docLink = document.createElement('div');\n",
              "          docLink.innerHTML = docLinkHtml;\n",
              "          element.appendChild(docLink);\n",
              "        }\n",
              "      </script>\n",
              "    </div>\n",
              "  </div>\n",
              "  "
            ]
          },
          "metadata": {},
          "execution_count": 8
        }
      ]
    },
    {
      "cell_type": "code",
      "source": [
        "dataTotal['Category'].unique()"
      ],
      "metadata": {
        "colab": {
          "base_uri": "https://localhost:8080/"
        },
        "id": "P4vjedanvsrg",
        "outputId": "e0c605a4-225e-44ad-8ec2-dc6d7ab4ecd3"
      },
      "execution_count": 9,
      "outputs": [
        {
          "output_type": "execute_result",
          "data": {
            "text/plain": [
              "array(['Books', 'Beauty', 'Clothes', 'Electronics', 'Furniture'],\n",
              "      dtype=object)"
            ]
          },
          "metadata": {},
          "execution_count": 9
        }
      ]
    },
    {
      "cell_type": "code",
      "source": [
        "#trainlabels = pandas.get_dummies(dataTotal.Category, prefix='Category')"
      ],
      "metadata": {
        "id": "B6aTVzjkt3gL"
      },
      "execution_count": 10,
      "outputs": []
    },
    {
      "cell_type": "code",
      "source": [
        "#df2 = pd.DataFrame(trainlabels)\n",
        "#dataTotal= pd.concat([dataTotal, df2], axis=1)"
      ],
      "metadata": {
        "id": "noaDb6GstV9A"
      },
      "execution_count": 11,
      "outputs": []
    },
    {
      "cell_type": "code",
      "source": [
        "trainData, testData = train_test_split(dataTotal, test_size=0.10, random_state=41)"
      ],
      "metadata": {
        "id": "bhvOUfyhcM4p"
      },
      "execution_count": 12,
      "outputs": []
    },
    {
      "cell_type": "code",
      "source": [
        "DATASET_COLS = [\"V5\", \"V6\", \"V7\", \"V8\", \"V9\", \"Category\", \"QID\", \"ProductID\", \"QProductID\", 'Category_Beauty', 'Category_Books', 'Category_Clothes', 'Category_Electronics', 'Category_Furniture']\n",
        "cols = [x for x in dataTotal.columns if (x not in DATASET_COLS)]\n",
        "trainX = trainData.loc[:, cols]\n",
        "testX = testData.loc[:,cols]\n",
        "\n",
        "trainX = trainX.values\n",
        "testX = testX.values"
      ],
      "metadata": {
        "id": "IV5H3f_zGlnU"
      },
      "execution_count": 13,
      "outputs": []
    },
    {
      "cell_type": "code",
      "source": [
        "print(trainX.shape)\n",
        "print(testX.shape)\n",
        "\n",
        "Train_No = trainX.shape[0] \n",
        "Test_No = testX.shape[0]"
      ],
      "metadata": {
        "colab": {
          "base_uri": "https://localhost:8080/"
        },
        "id": "wYiBdGSdG1-b",
        "outputId": "4e633602-85cc-46e0-c9d5-ada17cf608a6"
      },
      "execution_count": 14,
      "outputs": [
        {
          "output_type": "stream",
          "name": "stdout",
          "text": [
            "(90000, 66)\n",
            "(10000, 66)\n"
          ]
        }
      ]
    },
    {
      "cell_type": "code",
      "source": [
        "Train_No"
      ],
      "metadata": {
        "colab": {
          "base_uri": "https://localhost:8080/"
        },
        "id": "8KiTpnWQTp-L",
        "outputId": "372fb560-0e2e-49a7-afe0-0057c032d4f3"
      },
      "execution_count": 15,
      "outputs": [
        {
          "output_type": "execute_result",
          "data": {
            "text/plain": [
              "90000"
            ]
          },
          "metadata": {},
          "execution_count": 15
        }
      ]
    },
    {
      "cell_type": "code",
      "source": [
        "Test_No"
      ],
      "metadata": {
        "colab": {
          "base_uri": "https://localhost:8080/"
        },
        "id": "MTlFpYpGTriw",
        "outputId": "b56380e9-0f02-403f-c88f-1c9db0f64a92"
      },
      "execution_count": 16,
      "outputs": [
        {
          "output_type": "execute_result",
          "data": {
            "text/plain": [
              "10000"
            ]
          },
          "metadata": {},
          "execution_count": 16
        }
      ]
    },
    {
      "cell_type": "code",
      "metadata": {
        "id": "YXcsJ-e2WIIh",
        "colab": {
          "base_uri": "https://localhost:8080/"
        },
        "outputId": "56df86dc-1757-41df-e895-478d4b9ea37c"
      },
      "source": [
        "# Number of ranking features that needs imputing\n",
        "Dim = trainX.shape[1] \n",
        "print(\"Dim :\" + str(Dim))"
      ],
      "execution_count": 17,
      "outputs": [
        {
          "output_type": "stream",
          "name": "stdout",
          "text": [
            "Dim :66\n"
          ]
        }
      ]
    },
    {
      "cell_type": "code",
      "source": [
        "nClass = trainData['Category'].unique().size "
      ],
      "metadata": {
        "id": "mwFKwDwoSiPl"
      },
      "execution_count": 18,
      "outputs": []
    },
    {
      "cell_type": "code",
      "metadata": {
        "id": "4oJOB58XXX0q"
      },
      "source": [
        "##Create one-hot conditional matrix - numpy array\n",
        "trainlabelsX = pandas.get_dummies(trainData.Category, prefix='Category')\n",
        "testlabelsX = pandas.get_dummies(testData.Category, prefix='Category')\n",
        "trainlabelsX = trainlabelsX.values\n",
        "testlabelsX = testlabelsX.values"
      ],
      "execution_count": 19,
      "outputs": []
    },
    {
      "cell_type": "markdown",
      "metadata": {
        "id": "p0Dzeid_VRoA"
      },
      "source": [
        "## Train GAN"
      ]
    },
    {
      "cell_type": "code",
      "metadata": {
        "id": "a1WXm-W1ANYs"
      },
      "source": [
        "# Set Hyperparameters\n",
        "# Mini-batch\n",
        "mb_size = 256\n",
        "# Iterations\n",
        "n_epoch = 500\n",
        "# Missing rate\n",
        "p_miss = 0.05\n",
        "# Fully-connected layer sizes (change depending on Dim)\n",
        "col1 = 64 \n",
        "col2 = 64 "
      ],
      "execution_count": 20,
      "outputs": []
    },
    {
      "cell_type": "code",
      "metadata": {
        "id": "KxXyeVrLXX0q"
      },
      "source": [
        "# Other functions\n",
        "def sample_M(m, n, p):\n",
        "    A = np.random.uniform(0., 1., size = [m, n])\n",
        "    B = A > p\n",
        "    C = 1.*B\n",
        "    return C\n",
        "  \n",
        "trainM = sample_M(Train_No, Dim, p_miss)\n",
        "testM = sample_M(Test_No, Dim, p_miss)\n",
        "\n",
        "def xavier_init(size):\n",
        "    in_dim = size[0]\n",
        "    xavier_stddev = 1. / tf.sqrt(in_dim / 2.)\n",
        "    return tf.random_normal(shape = size, stddev = xavier_stddev)\n",
        "\n",
        "def sample_Z(m, n):\n",
        "    return np.random.uniform(0., 0.1, size = [m, n])        \n",
        "\n",
        "def sample_idx(m, n):\n",
        "    A = np.random.permutation(m)\n",
        "    idx = A[:n]\n",
        "    idx\n",
        "    return idx\n"
      ],
      "execution_count": 21,
      "outputs": []
    },
    {
      "cell_type": "code",
      "metadata": {
        "id": "ur_9lEiZXX0r",
        "colab": {
          "base_uri": "https://localhost:8080/"
        },
        "outputId": "a0a6d98b-5cc5-4471-ffd3-dc4358e2014d"
      },
      "source": [
        "import tensorflow.compat.v1 as tf\n",
        "tf.disable_v2_behavior()\n",
        "#Tensors\n",
        "X = tf.placeholder(tf.float32, shape = [None, Dim])\n",
        "M = tf.placeholder(tf.float32, shape = [None, Dim])\n",
        "H = tf.placeholder(tf.float32, shape = [None, Dim])\n",
        "Z = tf.placeholder(tf.float32, shape = [None, Dim])\n",
        "C = tf.placeholder(tf.float32, shape = [None, nClass])\n",
        "\n",
        "D_W1 = tf.Variable(xavier_init([Dim*2 + nClass, col1]))    \n",
        "D_b1 = tf.Variable(tf.zeros(shape = [col1]))\n",
        "D_W2 = tf.Variable(xavier_init([col1, col2]))\n",
        "D_b2 = tf.Variable(tf.zeros(shape = [col2]))\n",
        "D_W3 = tf.Variable(xavier_init([col2, Dim]))\n",
        "D_b3 = tf.Variable(tf.zeros(shape = [Dim]))   \n",
        "\n",
        "G_W1 = tf.Variable(xavier_init([Dim*2 + nClass, col1]))     \n",
        "G_b1 = tf.Variable(tf.zeros(shape = [col1]))\n",
        "G_W2 = tf.Variable(xavier_init([col1, col2]))\n",
        "G_b2 = tf.Variable(tf.zeros(shape = [col2]))\n",
        "G_W3 = tf.Variable(xavier_init([col2, Dim]))\n",
        "G_b3 = tf.Variable(tf.zeros(shape = [Dim]))"
      ],
      "execution_count": 22,
      "outputs": [
        {
          "output_type": "stream",
          "name": "stderr",
          "text": [
            "WARNING:tensorflow:From /usr/local/lib/python3.8/dist-packages/tensorflow/python/compat/v2_compat.py:107: disable_resource_variables (from tensorflow.python.ops.variable_scope) is deprecated and will be removed in a future version.\n",
            "Instructions for updating:\n",
            "non-resource variables are not supported in the long term\n"
          ]
        }
      ]
    },
    {
      "cell_type": "code",
      "metadata": {
        "id": "DjoshIZeXX0r",
        "colab": {
          "base_uri": "https://localhost:8080/"
        },
        "outputId": "9d51ec05-1c06-43b9-af54-d3c074f4ab03"
      },
      "source": [
        "%%time \n",
        "#Setting up conditional generator\n",
        "def generator_conditional(x,z,m,c):\n",
        "    inp = m * x + (1-m) * z  \n",
        "    inputs = tf.concat(axis = 1, values = [inp,c,m])  \n",
        "    print(\"G input: \" + str(inputs.shape))\n",
        "    G_h1 = tf.nn.relu(tf.matmul(inputs, G_W1) + G_b1)\n",
        "    G_h2 = tf.nn.relu(tf.matmul(G_h1, G_W2) + G_b2)\n",
        "    G_est = tf.matmul(G_h2, G_W3) + G_b3\n",
        "    return G_est\n",
        "\n",
        "    \n",
        "#Setting up conditional discriminator\n",
        "def discriminator_conditional(x, m, g, h, c):\n",
        "    inp = m * x + (1-m) * g  \n",
        "    inputs = tf.concat(axis = 1, values = [inp,c,h])  \n",
        "    D_h1 = tf.nn.relu(tf.matmul(inputs, D_W1) + D_b1)\n",
        "    D_h2 = tf.nn.relu(tf.matmul(D_h1, D_W2) + D_b2)\n",
        "    D_logit = tf.matmul(D_h2, D_W3) + D_b3\n",
        "    D_prob = tf.nn.sigmoid(D_logit)  \n",
        "    return D_prob\n",
        "\n",
        "#Generate fake copies\n",
        "print(\"X: \" + str(X.shape))\n",
        "print(\"Z: \" + str(Z.shape))\n",
        "print(\"M: \" + str(M.shape))\n",
        "print(\"C: \" + str(C.shape))\n",
        "\n",
        "G_sample = generator_conditional(X,Z,M,C)\n",
        "D_prob = discriminator_conditional(X, M, G_sample, H,C)\n",
        "\n",
        "D_loss1 = -tf.reduce_mean(M * tf.log(D_prob + 1e-8) + (1-M) * tf.log(1. - D_prob + 1e-8)) * 2\n",
        "G_loss1 = -tf.reduce_mean((1-M) * tf.log(D_prob + 1e-8)) / tf.reduce_mean(1-M)\n",
        "MSE_train_loss = tf.reduce_mean((M * X - M * G_sample)**2) / tf.reduce_mean(M)\n",
        "MSE_test_loss = tf.reduce_mean(((1-M) * X - (1-M)*G_sample)**2) / tf.reduce_mean(1-M)\n",
        "\n",
        "D_loss = D_loss1 + MSE_test_loss\n",
        "G_loss = G_loss1 + 10 * MSE_train_loss \n",
        "\n",
        "\n",
        "#Imputed Copy\n",
        "Imputed_copy = M * X + (1-M) * G_sample\n",
        "\n",
        "#Adam Optimizer\n",
        "D_params = [D_W1, D_W2, D_W3, D_b1, D_b2, D_b3]\n",
        "G_params = [G_W1, G_W2, G_W3, G_b1, G_b2, G_b3]\n",
        "D_solver = tf.train.AdamOptimizer().minimize(D_loss, var_list=D_params)\n",
        "G_solver = tf.train.AdamOptimizer().minimize(G_loss, var_list=G_params)"
      ],
      "execution_count": 23,
      "outputs": [
        {
          "output_type": "stream",
          "name": "stdout",
          "text": [
            "X: (?, 66)\n",
            "Z: (?, 66)\n",
            "M: (?, 66)\n",
            "C: (?, 5)\n",
            "G input: (?, 137)\n",
            "CPU times: user 407 ms, sys: 8.04 ms, total: 415 ms\n",
            "Wall time: 427 ms\n"
          ]
        }
      ]
    },
    {
      "cell_type": "code",
      "metadata": {
        "id": "_SM7ErQjdfqQ",
        "colab": {
          "base_uri": "https://localhost:8080/"
        },
        "outputId": "17759799-b621-442d-c933-1fb9b8297e60"
      },
      "source": [
        "%%time\n",
        "sess = tf.Session()\n",
        "sess.run(tf.global_variables_initializer())\n",
        "\n",
        "\n",
        "i = 1\n",
        "DiscriminatorLoss = []\n",
        "GeneratorLoss = []\n",
        "IterationsRecord = []\n",
        "\n",
        "tqdm(range(n_epoch))\n",
        "\n",
        "for it in tqdm(range(n_epoch)):\n",
        "    \n",
        "    mb_idx = sample_idx(Train_No, mb_size)\n",
        "    X_mb = trainX[mb_idx,:]  \n",
        "    Z_mb = sample_Z(mb_size, Dim) \n",
        "    M_mb = trainM[mb_idx,:]  \n",
        "    H_mb1 = sample_M(mb_size, Dim, 1-0.5)\n",
        "    H_mb = M_mb * H_mb1\n",
        "    C_mb = trainlabelsX[mb_idx, :]\n",
        "    \n",
        "    #print(\"M_mb: \" + str(M_mb.shape))\n",
        "    #print(\"X_mb: \" + str(X_mb.shape))\n",
        "    #print(\"Z_mb: \" + str(Z_mb.shape))\n",
        "    #print(\"H_mb: \" + str(H_mb.shape))\n",
        "    #print(\"C_mb: \" + str(C_mb.shape))\n",
        "\n",
        "    New_X_mb = M_mb * X_mb + (1-M_mb) * Z_mb  # Missing Data Introduce\n",
        "    \n",
        "    _, D_loss = sess.run([D_solver, D_loss1], feed_dict = {X: X_mb, M: M_mb, Z: New_X_mb, H: H_mb, C: C_mb})\n",
        "    _, G_loss, MSE_train_loss_curr, MSE_test_loss_curr = sess.run([G_solver, G_loss1, MSE_train_loss, MSE_test_loss],\n",
        "                                                                       feed_dict = {X: X_mb, M: M_mb, Z: New_X_mb, H: H_mb, C: C_mb})\n",
        "         \n",
        "        \n",
        "    #%% Intermediate Losses\n",
        "    if it % 50 == 0:\n",
        "        IterationsRecord.append(it)\n",
        "        DiscriminatorLoss.append(D_loss)\n",
        "        GeneratorLoss.append(G_loss)\n",
        "        print('Iter: {}'.format(it))\n",
        "        print('Dloss: {:.4}'.format(D_loss))\n",
        "        print('Gloss: {:.4}'.format(G_loss))\n",
        "        print()\n",
        "\n"
      ],
      "execution_count": 24,
      "outputs": [
        {
          "output_type": "stream",
          "name": "stderr",
          "text": [
            "  0%|          | 0/500 [00:00<?, ?it/s]\n",
            "  3%|▎         | 14/500 [00:03<01:19,  6.08it/s]"
          ]
        },
        {
          "output_type": "stream",
          "name": "stdout",
          "text": [
            "Iter: 0\n",
            "Dloss: 1.549\n",
            "Gloss: 0.7627\n",
            "\n"
          ]
        },
        {
          "output_type": "stream",
          "name": "stderr",
          "text": [
            " 14%|█▍        | 69/500 [00:03<00:08, 49.17it/s]"
          ]
        },
        {
          "output_type": "stream",
          "name": "stdout",
          "text": [
            "Iter: 50\n",
            "Dloss: 0.4533\n",
            "Gloss: 0.05283\n",
            "\n"
          ]
        },
        {
          "output_type": "stream",
          "name": "stderr",
          "text": [
            " 26%|██▌       | 129/500 [00:03<00:03, 105.22it/s]"
          ]
        },
        {
          "output_type": "stream",
          "name": "stdout",
          "text": [
            "Iter: 100\n",
            "Dloss: 0.4019\n",
            "Gloss: 0.05799\n",
            "\n"
          ]
        },
        {
          "output_type": "stream",
          "name": "stderr",
          "text": [
            " 35%|███▍      | 174/500 [00:04<00:02, 126.35it/s]"
          ]
        },
        {
          "output_type": "stream",
          "name": "stdout",
          "text": [
            "Iter: 150\n",
            "Dloss: 0.4068\n",
            "Gloss: 0.05247\n",
            "\n"
          ]
        },
        {
          "output_type": "stream",
          "name": "stderr",
          "text": [
            " 44%|████▍     | 220/500 [00:04<00:01, 140.67it/s]"
          ]
        },
        {
          "output_type": "stream",
          "name": "stdout",
          "text": [
            "Iter: 200\n",
            "Dloss: 0.4234\n",
            "Gloss: 0.05612\n",
            "\n"
          ]
        },
        {
          "output_type": "stream",
          "name": "stderr",
          "text": [
            " 53%|█████▎    | 265/500 [00:04<00:01, 138.35it/s]"
          ]
        },
        {
          "output_type": "stream",
          "name": "stdout",
          "text": [
            "Iter: 250\n",
            "Dloss: 0.399\n",
            "Gloss: 0.05816\n",
            "\n"
          ]
        },
        {
          "output_type": "stream",
          "name": "stderr",
          "text": [
            " 65%|██████▌   | 326/500 [00:05<00:01, 142.91it/s]"
          ]
        },
        {
          "output_type": "stream",
          "name": "stdout",
          "text": [
            "Iter: 300\n",
            "Dloss: 0.3898\n",
            "Gloss: 0.06115\n",
            "\n"
          ]
        },
        {
          "output_type": "stream",
          "name": "stderr",
          "text": [
            " 74%|███████▍  | 371/500 [00:05<00:00, 142.73it/s]"
          ]
        },
        {
          "output_type": "stream",
          "name": "stdout",
          "text": [
            "Iter: 350\n",
            "Dloss: 0.4009\n",
            "Gloss: 0.05434\n",
            "\n"
          ]
        },
        {
          "output_type": "stream",
          "name": "stderr",
          "text": [
            " 84%|████████▎ | 418/500 [00:06<00:00, 147.71it/s]"
          ]
        },
        {
          "output_type": "stream",
          "name": "stdout",
          "text": [
            "Iter: 400\n",
            "Dloss: 0.3981\n",
            "Gloss: 0.05746\n",
            "\n"
          ]
        },
        {
          "output_type": "stream",
          "name": "stderr",
          "text": [
            " 96%|█████████▌| 479/500 [00:06<00:00, 143.83it/s]"
          ]
        },
        {
          "output_type": "stream",
          "name": "stdout",
          "text": [
            "Iter: 450\n",
            "Dloss: 0.3844\n",
            "Gloss: 0.05801\n",
            "\n"
          ]
        },
        {
          "output_type": "stream",
          "name": "stderr",
          "text": [
            "100%|██████████| 500/500 [00:06<00:00, 75.55it/s] "
          ]
        },
        {
          "output_type": "stream",
          "name": "stdout",
          "text": [
            "CPU times: user 6.04 s, sys: 1.98 s, total: 8.03 s\n",
            "Wall time: 13.3 s\n"
          ]
        },
        {
          "output_type": "stream",
          "name": "stderr",
          "text": [
            "\n"
          ]
        }
      ]
    },
    {
      "cell_type": "code",
      "source": [
        "def mostrarDiferencias(X_mb,Imputed_copy_v2 ):\n",
        "    X_mb_real = dt.inverse_transform(X_mb)\n",
        "    #print(\"X_mb_real: \")\n",
        "    #print(X_mb_real)\n",
        "\n",
        "    imputed_real = dt.inverse_transform(Imputed_copy_v2)\n",
        "    #print(\"imputed_real: \")\n",
        "    #print(imputed_real)\n",
        "\n",
        "    print(X_mb_real.compare(imputed_real, keep_equal=True, align_axis=0, keep_shape=True).head(20))\n",
        "\n"
      ],
      "metadata": {
        "id": "fBxRVTIFrG0l"
      },
      "execution_count": 47,
      "outputs": []
    },
    {
      "cell_type": "markdown",
      "metadata": {
        "id": "LTrN-OW-XX0y"
      },
      "source": [
        "### Record some summary statistics\n"
      ]
    },
    {
      "cell_type": "code",
      "metadata": {
        "id": "MVZlk-9_Xwad",
        "colab": {
          "base_uri": "https://localhost:8080/"
        },
        "outputId": "1fa9b07b-013d-4a8a-ea78-2c76cd6d29a0"
      },
      "source": [
        "#Getting imputations for test ranking dataset + RMSE.\n",
        "N_imputations = 10\n",
        "RMSEoutput = []\n",
        "\n",
        "for j in range(N_imputations):\n",
        "    Z_mb = sample_Z(Test_No, Dim) \n",
        "    M_mb = testM\n",
        "    X_mb = testX\n",
        "        \n",
        "    New_X_mb = M_mb * X_mb + (1-M_mb) * Z_mb       \n",
        "    New_C_mb = testlabelsX\n",
        "    \n",
        "    MSE_final, Sample, Imputed_copy_v2, M_v2 = sess.run([MSE_test_loss, G_sample, Imputed_copy, M], feed_dict = {X: testX, M: testM, Z: New_X_mb, C: New_C_mb})\n",
        "\n",
        "\n",
        "    mostrarDiferencias(X_mb, Imputed_copy_v2)\n",
        "\n",
        "    print(\"MSE_final: \" + str(MSE_final))\n",
        "    RMSEoutput.append(np.sqrt(MSE_final))\n",
        "    print(\"Done with imputation\", j)\n"
      ],
      "execution_count": 48,
      "outputs": [
        {
          "output_type": "stream",
          "name": "stdout",
          "text": [
            "               V5         V6        V7  V8         V9\n",
            "0 self  -0.646684  14.066710  4.718122   1   1.140152\n",
            "  other -0.646684  14.066710  4.718122   1   1.140152\n",
            "1 self   5.099712   3.172998  0.742055  11  25.417235\n",
            "  other  5.099712   4.975532  0.742055  11  25.417235\n",
            "2 self   1.386982  11.483917  1.855971   3   0.789953\n",
            "  other  1.386982  11.483917  1.855971   3   0.789953\n",
            "3 self   0.995977   2.777716  0.673525   7   6.518261\n",
            "  other  0.995977   2.777716  0.673525   7   6.518261\n",
            "4 self   1.348308   0.859739  0.670172   2  15.131402\n",
            "  other  1.348308   0.859739  0.670172   2  15.131402\n",
            "5 self   1.642244   1.760933  1.358020   2   3.731006\n",
            "  other  1.642244   1.760933  1.358020   2   3.731006\n",
            "6 self   5.084872   3.825250  0.852716   4  28.441885\n",
            "  other  5.084872   3.825250  0.852716   4  28.441885\n",
            "7 self   0.468913   2.708350  0.198221   1   7.078636\n",
            "  other  1.944330   2.708350  0.198221   1   7.078636\n",
            "8 self   2.382675   4.476028  0.214304   7  34.177167\n",
            "  other  2.382675   4.476028  0.214304   7  34.177167\n",
            "9 self   0.753716   8.976134  2.538294   3   4.604793\n",
            "  other  0.753716   8.976134  2.538294   3   4.604793\n",
            "MSE_final: 0.06624962\n",
            "Done with imputation 0\n",
            "               V5         V6        V7  V8         V9\n",
            "0 self  -0.646684  14.066710  4.718122   1   1.140152\n",
            "  other -0.646684  14.066710  4.718122   1   1.140152\n",
            "1 self   5.099712   3.172998  0.742055  11  25.417235\n",
            "  other  5.099712   4.921937  0.742055  11  25.417235\n",
            "2 self   1.386982  11.483917  1.855971   3   0.789953\n",
            "  other  1.386982  11.483917  1.855971   3   0.789953\n",
            "3 self   0.995977   2.777716  0.673525   7   6.518261\n",
            "  other  0.995977   2.777716  0.673525   7   6.518261\n",
            "4 self   1.348308   0.859739  0.670172   2  15.131402\n",
            "  other  1.348308   0.859739  0.670172   2  15.131402\n",
            "5 self   1.642244   1.760933  1.358020   2   3.731006\n",
            "  other  1.642244   1.760933  1.358020   2   3.731006\n",
            "6 self   5.084872   3.825250  0.852716   4  28.441885\n",
            "  other  5.084872   3.825250  0.852716   4  28.441885\n",
            "7 self   0.468913   2.708350  0.198221   1   7.078636\n",
            "  other  1.944330   2.708350  0.198221   1   7.078636\n",
            "8 self   2.382675   4.476028  0.214304   7  34.177167\n",
            "  other  2.382675   4.476028  0.214304   7  34.177167\n",
            "9 self   0.753716   8.976134  2.538294   3   4.604793\n",
            "  other  0.753716   8.976134  2.538294   3   4.604793\n",
            "MSE_final: 0.066233166\n",
            "Done with imputation 1\n",
            "               V5         V6        V7  V8         V9\n",
            "0 self  -0.646684  14.066710  4.718122   1   1.140152\n",
            "  other -0.646684  14.066710  4.718122   1   1.140152\n",
            "1 self   5.099712   3.172998  0.742055  11  25.417235\n",
            "  other  5.099712   4.883276  0.742055  11  25.417235\n",
            "2 self   1.386982  11.483917  1.855971   3   0.789953\n",
            "  other  1.386982  11.483917  1.855971   3   0.789953\n",
            "3 self   0.995977   2.777716  0.673525   7   6.518261\n",
            "  other  0.995977   2.777716  0.673525   7   6.518261\n",
            "4 self   1.348308   0.859739  0.670172   2  15.131402\n",
            "  other  1.348308   0.859739  0.670172   2  15.131402\n",
            "5 self   1.642244   1.760933  1.358020   2   3.731006\n",
            "  other  1.642244   1.760933  1.358020   2   3.731006\n",
            "6 self   5.084872   3.825250  0.852716   4  28.441885\n",
            "  other  5.084872   3.825250  0.852716   4  28.441885\n",
            "7 self   0.468913   2.708350  0.198221   1   7.078636\n",
            "  other  1.944330   2.708350  0.198221   1   7.078636\n",
            "8 self   2.382675   4.476028  0.214304   7  34.177167\n",
            "  other  2.382675   4.476028  0.214304   7  34.177167\n",
            "9 self   0.753716   8.976134  2.538294   3   4.604793\n",
            "  other  0.753716   8.976134  2.538294   3   4.604793\n",
            "MSE_final: 0.06622445\n",
            "Done with imputation 2\n",
            "               V5         V6        V7  V8         V9\n",
            "0 self  -0.646684  14.066710  4.718122   1   1.140152\n",
            "  other -0.646684  14.066710  4.718122   1   1.140152\n",
            "1 self   5.099712   3.172998  0.742055  11  25.417235\n",
            "  other  5.099712   4.901847  0.742055  11  25.417235\n",
            "2 self   1.386982  11.483917  1.855971   3   0.789953\n",
            "  other  1.386982  11.483917  1.855971   3   0.789953\n",
            "3 self   0.995977   2.777716  0.673525   7   6.518261\n",
            "  other  0.995977   2.777716  0.673525   7   6.518261\n",
            "4 self   1.348308   0.859739  0.670172   2  15.131402\n",
            "  other  1.348308   0.859739  0.670172   2  15.131402\n",
            "5 self   1.642244   1.760933  1.358020   2   3.731006\n",
            "  other  1.642244   1.760933  1.358020   2   3.731006\n",
            "6 self   5.084872   3.825250  0.852716   4  28.441885\n",
            "  other  5.084872   3.825250  0.852716   4  28.441885\n",
            "7 self   0.468913   2.708350  0.198221   1   7.078636\n",
            "  other  1.944330   2.708350  0.198221   1   7.078636\n",
            "8 self   2.382675   4.476028  0.214304   7  34.177167\n",
            "  other  2.382675   4.476028  0.214304   7  34.177167\n",
            "9 self   0.753716   8.976134  2.538294   3   4.604793\n",
            "  other  0.753716   8.976134  2.538294   3   4.604793\n",
            "MSE_final: 0.06623531\n",
            "Done with imputation 3\n",
            "               V5         V6        V7  V8         V9\n",
            "0 self  -0.646684  14.066710  4.718122   1   1.140152\n",
            "  other -0.646684  14.066710  4.718122   1   1.140152\n",
            "1 self   5.099712   3.172998  0.742055  11  25.417235\n",
            "  other  5.099712   4.937300  0.742055  11  25.417235\n",
            "2 self   1.386982  11.483917  1.855971   3   0.789953\n",
            "  other  1.386982  11.483917  1.855971   3   0.789953\n",
            "3 self   0.995977   2.777716  0.673525   7   6.518261\n",
            "  other  0.995977   2.777716  0.673525   7   6.518261\n",
            "4 self   1.348308   0.859739  0.670172   2  15.131402\n",
            "  other  1.348308   0.859739  0.670172   2  15.131402\n",
            "5 self   1.642244   1.760933  1.358020   2   3.731006\n",
            "  other  1.642244   1.760933  1.358020   2   3.731006\n",
            "6 self   5.084872   3.825250  0.852716   4  28.441885\n",
            "  other  5.084872   3.825250  0.852716   4  28.441885\n",
            "7 self   0.468913   2.708350  0.198221   1   7.078636\n",
            "  other  1.944330   2.708350  0.198221   1   7.078636\n",
            "8 self   2.382675   4.476028  0.214304   7  34.177167\n",
            "  other  2.382675   4.476028  0.214304   7  34.177167\n",
            "9 self   0.753716   8.976134  2.538294   3   4.604793\n",
            "  other  0.753716   8.976134  2.538294   3   4.604793\n",
            "MSE_final: 0.06625177\n",
            "Done with imputation 4\n",
            "               V5         V6        V7  V8         V9\n",
            "0 self  -0.646684  14.066710  4.718122   1   1.140152\n",
            "  other -0.646684  14.066710  4.718122   1   1.140152\n",
            "1 self   5.099712   3.172998  0.742055  11  25.417235\n",
            "  other  5.099712   4.902504  0.742055  11  25.417235\n",
            "2 self   1.386982  11.483917  1.855971   3   0.789953\n",
            "  other  1.386982  11.483917  1.855971   3   0.789953\n",
            "3 self   0.995977   2.777716  0.673525   7   6.518261\n",
            "  other  0.995977   2.777716  0.673525   7   6.518261\n",
            "4 self   1.348308   0.859739  0.670172   2  15.131402\n",
            "  other  1.348308   0.859739  0.670172   2  15.131402\n",
            "5 self   1.642244   1.760933  1.358020   2   3.731006\n",
            "  other  1.642244   1.760933  1.358020   2   3.731006\n",
            "6 self   5.084872   3.825250  0.852716   4  28.441885\n",
            "  other  5.084872   3.825250  0.852716   4  28.441885\n",
            "7 self   0.468913   2.708350  0.198221   1   7.078636\n",
            "  other  1.944330   2.708350  0.198221   1   7.078636\n",
            "8 self   2.382675   4.476028  0.214304   7  34.177167\n",
            "  other  2.382675   4.476028  0.214304   7  34.177167\n",
            "9 self   0.753716   8.976134  2.538294   3   4.604793\n",
            "  other  0.753716   8.976134  2.538294   3   4.604793\n",
            "MSE_final: 0.06626883\n",
            "Done with imputation 5\n",
            "               V5         V6        V7  V8         V9\n",
            "0 self  -0.646684  14.066710  4.718122   1   1.140152\n",
            "  other -0.646684  14.066710  4.718122   1   1.140152\n",
            "1 self   5.099712   3.172998  0.742055  11  25.417235\n",
            "  other  5.099712   4.860313  0.742055  11  25.417235\n",
            "2 self   1.386982  11.483917  1.855971   3   0.789953\n",
            "  other  1.386982  11.483917  1.855971   3   0.789953\n",
            "3 self   0.995977   2.777716  0.673525   7   6.518261\n",
            "  other  0.995977   2.777716  0.673525   7   6.518261\n",
            "4 self   1.348308   0.859739  0.670172   2  15.131402\n",
            "  other  1.348308   0.859739  0.670172   2  15.131402\n",
            "5 self   1.642244   1.760933  1.358020   2   3.731006\n",
            "  other  1.642244   1.760933  1.358020   2   3.731006\n",
            "6 self   5.084872   3.825250  0.852716   4  28.441885\n",
            "  other  5.084872   3.825250  0.852716   4  28.441885\n",
            "7 self   0.468913   2.708350  0.198221   1   7.078636\n",
            "  other  1.944330   2.708350  0.198221   1   7.078636\n",
            "8 self   2.382675   4.476028  0.214304   7  34.177167\n",
            "  other  2.382675   4.476028  0.214304   7  34.177167\n",
            "9 self   0.753716   8.976134  2.538294   3   4.604793\n",
            "  other  0.753716   8.976134  2.538294   3   4.604793\n",
            "MSE_final: 0.06627409\n",
            "Done with imputation 6\n",
            "               V5         V6        V7  V8         V9\n",
            "0 self  -0.646684  14.066710  4.718122   1   1.140152\n",
            "  other -0.646684  14.066710  4.718122   1   1.140152\n",
            "1 self   5.099712   3.172998  0.742055  11  25.417235\n",
            "  other  5.099712   4.923466  0.742055  11  25.417235\n",
            "2 self   1.386982  11.483917  1.855971   3   0.789953\n",
            "  other  1.386982  11.483917  1.855971   3   0.789953\n",
            "3 self   0.995977   2.777716  0.673525   7   6.518261\n",
            "  other  0.995977   2.777716  0.673525   7   6.518261\n",
            "4 self   1.348308   0.859739  0.670172   2  15.131402\n",
            "  other  1.348308   0.859739  0.670172   2  15.131402\n",
            "5 self   1.642244   1.760933  1.358020   2   3.731006\n",
            "  other  1.642244   1.760933  1.358020   2   3.731006\n",
            "6 self   5.084872   3.825250  0.852716   4  28.441885\n",
            "  other  5.084872   3.825250  0.852716   4  28.441885\n",
            "7 self   0.468913   2.708350  0.198221   1   7.078636\n",
            "  other  1.944330   2.708350  0.198221   1   7.078636\n",
            "8 self   2.382675   4.476028  0.214304   7  34.177167\n",
            "  other  2.382675   4.476028  0.214304   7  34.177167\n",
            "9 self   0.753716   8.976134  2.538294   3   4.604793\n",
            "  other  0.753716   8.976134  2.538294   3   4.604793\n",
            "MSE_final: 0.06624409\n",
            "Done with imputation 7\n",
            "               V5         V6        V7  V8         V9\n",
            "0 self  -0.646684  14.066710  4.718122   1   1.140152\n",
            "  other -0.646684  14.066710  4.718122   1   1.140152\n",
            "1 self   5.099712   3.172998  0.742055  11  25.417235\n",
            "  other  5.099712   4.890219  0.742055  11  25.417235\n",
            "2 self   1.386982  11.483917  1.855971   3   0.789953\n",
            "  other  1.386982  11.483917  1.855971   3   0.789953\n",
            "3 self   0.995977   2.777716  0.673525   7   6.518261\n",
            "  other  0.995977   2.777716  0.673525   7   6.518261\n",
            "4 self   1.348308   0.859739  0.670172   2  15.131402\n",
            "  other  1.348308   0.859739  0.670172   2  15.131402\n",
            "5 self   1.642244   1.760933  1.358020   2   3.731006\n",
            "  other  1.642244   1.760933  1.358020   2   3.731006\n",
            "6 self   5.084872   3.825250  0.852716   4  28.441885\n",
            "  other  5.084872   3.825250  0.852716   4  28.441885\n",
            "7 self   0.468913   2.708350  0.198221   1   7.078636\n",
            "  other  1.944330   2.708350  0.198221   1   7.078636\n",
            "8 self   2.382675   4.476028  0.214304   7  34.177167\n",
            "  other  2.382675   4.476028  0.214304   7  34.177167\n",
            "9 self   0.753716   8.976134  2.538294   3   4.604793\n",
            "  other  0.753716   8.976134  2.538294   3   4.604793\n",
            "MSE_final: 0.066229254\n",
            "Done with imputation 8\n",
            "               V5         V6        V7  V8         V9\n",
            "0 self  -0.646684  14.066710  4.718122   1   1.140152\n",
            "  other -0.646684  14.066710  4.718122   1   1.140152\n",
            "1 self   5.099712   3.172998  0.742055  11  25.417235\n",
            "  other  5.099712   4.858452  0.742055  11  25.417235\n",
            "2 self   1.386982  11.483917  1.855971   3   0.789953\n",
            "  other  1.386982  11.483917  1.855971   3   0.789953\n",
            "3 self   0.995977   2.777716  0.673525   7   6.518261\n",
            "  other  0.995977   2.777716  0.673525   7   6.518261\n",
            "4 self   1.348308   0.859739  0.670172   2  15.131402\n",
            "  other  1.348308   0.859739  0.670172   2  15.131402\n",
            "5 self   1.642244   1.760933  1.358020   2   3.731006\n",
            "  other  1.642244   1.760933  1.358020   2   3.731006\n",
            "6 self   5.084872   3.825250  0.852716   4  28.441885\n",
            "  other  5.084872   3.825250  0.852716   4  28.441885\n",
            "7 self   0.468913   2.708350  0.198221   1   7.078636\n",
            "  other  1.944330   2.708350  0.198221   1   7.078636\n",
            "8 self   2.382675   4.476028  0.214304   7  34.177167\n",
            "  other  2.382675   4.476028  0.214304   7  34.177167\n",
            "9 self   0.753716   8.976134  2.538294   3   4.604793\n",
            "  other  0.753716   8.976134  2.538294   3   4.604793\n",
            "MSE_final: 0.066246085\n",
            "Done with imputation 9\n"
          ]
        }
      ]
    },
    {
      "cell_type": "code",
      "metadata": {
        "id": "ADxd7Ck0XX0y"
      },
      "source": [
        "RMSEDF = pandas.DataFrame({'RMSE': RMSEoutput})\n",
        "RMSEDF.to_csv('rmse.csv', index=False, header=True)"
      ],
      "execution_count": 26,
      "outputs": []
    },
    {
      "cell_type": "code",
      "metadata": {
        "id": "6IgRDwqKizFC",
        "colab": {
          "base_uri": "https://localhost:8080/"
        },
        "outputId": "ee34b406-4c11-40ca-e883-8f8cc12d4400"
      },
      "source": [
        "RMSEDF.mean(axis=0)"
      ],
      "execution_count": 27,
      "outputs": [
        {
          "output_type": "execute_result",
          "data": {
            "text/plain": [
              "RMSE    0.257362\n",
              "dtype: float32"
            ]
          },
          "metadata": {},
          "execution_count": 27
        }
      ]
    },
    {
      "cell_type": "markdown",
      "metadata": {
        "id": "dl3mzWfSZMhT"
      },
      "source": [
        "Code adapted based on Yoon et al. (2018)\n",
        "\n",
        "\n",
        "\n"
      ]
    }
  ]
}